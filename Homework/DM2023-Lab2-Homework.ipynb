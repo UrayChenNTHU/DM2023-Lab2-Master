{
 "cells": [
  {
   "cell_type": "markdown",
   "metadata": {},
   "source": [
    "### Student Information\n",
    "Name: 陳祐瑞 Uray Chaen\n",
    "\n",
    "Student ID: 110191038\n",
    "\n",
    "GitHub ID: 148952532\n",
    "\n",
    "Kaggle name: Uray Chen\n",
    "\n",
    "Kaggle private scoreboard snapshot:\n",
    "\n",
    "[Snapshot](img/pic0.png)\n",
    "\n",
    "[Late submission](img/late%20submission.png)"
   ]
  },
  {
   "cell_type": "markdown",
   "metadata": {},
   "source": [
    "---"
   ]
  },
  {
   "cell_type": "markdown",
   "metadata": {},
   "source": [
    "### Instructions"
   ]
  },
  {
   "cell_type": "markdown",
   "metadata": {},
   "source": [
    "1. First: __This part is worth 30% of your grade.__ Do the **take home** exercises in the DM2023-Lab2-master. You may need to copy some cells from the Lab notebook to this notebook. \n",
    "\n",
    "\n",
    "2. Second: __This part is worth 30% of your grade.__ Participate in the in-class [Kaggle Competition](https://www.kaggle.com/t/09b1d0f3f8584d06848252277cb535f2) regarding Emotion Recognition on Twitter by this link https://www.kaggle.com/t/09b1d0f3f8584d06848252277cb535f2. The scoring will be given according to your place in the Private Leaderboard ranking: \n",
    "    - **Bottom 40%**: Get 20% of the 30% available for this section.\n",
    "\n",
    "    - **Top 41% - 100%**: Get (60-x)/6 + 20 points, where x is your ranking in the leaderboard (ie. If you rank 3rd your score will be (60-3)/6 + 20 = 29.5% out of 30%)   \n",
    "    Submit your last submission __BEFORE the deadline (Dec. 27th 11:59 pm, Wednesday)_. Make sure to take a screenshot of your position at the end of the competition and store it as '''pic0.png''' under the **img** folder of this repository and rerun the cell **Student Information**.\n",
    "    \n",
    "\n",
    "3. Third: __This part is worth 30% of your grade.__ A report of your work developping the model for the competition (You can use code and comment it). This report should include what your preprocessing steps, the feature engineering steps and an explanation of your model. You can also mention different things you tried and insights you gained. \n",
    "\n",
    "\n",
    "4. Fourth: __This part is worth 10% of your grade.__ It's hard for us to follow if your code is messy :'(, so please **tidy up your notebook** and **add minimal comments where needed**.\n",
    "\n",
    "\n",
    "Upload your files to your repository then submit the link to it on the corresponding e-learn assignment.\n",
    "\n",
    "Make sure to commit and save your changes to your repository __BEFORE the deadline (Dec. 31th 11:59 pm, Sunday)__. "
   ]
  },
  {
   "cell_type": "markdown",
   "metadata": {},
   "source": [
    "1. First: __This part is worth 30% of your grade.__ Do the **take home** exercises in the DM2023-Lab2-master. You may need to copy some cells from the Lab notebook to this notebook. "
   ]
  },
  {
   "cell_type": "markdown",
   "metadata": {},
   "source": [
    "## Load part one train and test data"
   ]
  },
  {
   "cell_type": "code",
   "execution_count": 12,
   "metadata": {},
   "outputs": [],
   "source": [
    "import pandas as pd\n",
    "\n",
    "### training data\n",
    "anger_train = pd.read_csv(\"data/semeval/train/anger-ratings-0to1.train.txt\",\n",
    "                         sep=\"\\t\", header=None,names=[\"id\", \"text\", \"emotion\", \"intensity\"])\n",
    "sadness_train = pd.read_csv(\"data/semeval/train/sadness-ratings-0to1.train.txt\",\n",
    "                         sep=\"\\t\", header=None, names=[\"id\", \"text\", \"emotion\", \"intensity\"])\n",
    "fear_train = pd.read_csv(\"data/semeval/train/fear-ratings-0to1.train.txt\",\n",
    "                         sep=\"\\t\", header=None, names=[\"id\", \"text\", \"emotion\", \"intensity\"])\n",
    "joy_train = pd.read_csv(\"data/semeval/train/joy-ratings-0to1.train.txt\",\n",
    "                         sep=\"\\t\", header=None, names=[\"id\", \"text\", \"emotion\", \"intensity\"])\n",
    "# combine 4 sub-dataset\n",
    "train_df = pd.concat([anger_train, fear_train, joy_train, sadness_train], ignore_index=True)"
   ]
  },
  {
   "cell_type": "code",
   "execution_count": 13,
   "metadata": {},
   "outputs": [
    {
     "data": {
      "text/html": [
       "<div>\n",
       "<style scoped>\n",
       "    .dataframe tbody tr th:only-of-type {\n",
       "        vertical-align: middle;\n",
       "    }\n",
       "\n",
       "    .dataframe tbody tr th {\n",
       "        vertical-align: top;\n",
       "    }\n",
       "\n",
       "    .dataframe thead th {\n",
       "        text-align: right;\n",
       "    }\n",
       "</style>\n",
       "<table border=\"1\" class=\"dataframe\">\n",
       "  <thead>\n",
       "    <tr style=\"text-align: right;\">\n",
       "      <th></th>\n",
       "      <th>id</th>\n",
       "      <th>text</th>\n",
       "      <th>emotion</th>\n",
       "      <th>intensity</th>\n",
       "    </tr>\n",
       "  </thead>\n",
       "  <tbody>\n",
       "    <tr>\n",
       "      <th>0</th>\n",
       "      <td>10000</td>\n",
       "      <td>How the fu*k! Who the heck! moved my fridge!.....</td>\n",
       "      <td>anger</td>\n",
       "      <td>0.938</td>\n",
       "    </tr>\n",
       "    <tr>\n",
       "      <th>1</th>\n",
       "      <td>10001</td>\n",
       "      <td>So my Indian Uber driver just called someone t...</td>\n",
       "      <td>anger</td>\n",
       "      <td>0.896</td>\n",
       "    </tr>\n",
       "    <tr>\n",
       "      <th>2</th>\n",
       "      <td>10002</td>\n",
       "      <td>@DPD_UK I asked for my parcel to be delivered ...</td>\n",
       "      <td>anger</td>\n",
       "      <td>0.896</td>\n",
       "    </tr>\n",
       "    <tr>\n",
       "      <th>3</th>\n",
       "      <td>10003</td>\n",
       "      <td>so ef whichever butt wipe pulled the fire alar...</td>\n",
       "      <td>anger</td>\n",
       "      <td>0.896</td>\n",
       "    </tr>\n",
       "    <tr>\n",
       "      <th>4</th>\n",
       "      <td>10004</td>\n",
       "      <td>Don't join @BTCare they put the phone down on ...</td>\n",
       "      <td>anger</td>\n",
       "      <td>0.896</td>\n",
       "    </tr>\n",
       "  </tbody>\n",
       "</table>\n",
       "</div>"
      ],
      "text/plain": [
       "      id                                               text emotion  intensity\n",
       "0  10000  How the fu*k! Who the heck! moved my fridge!.....   anger      0.938\n",
       "1  10001  So my Indian Uber driver just called someone t...   anger      0.896\n",
       "2  10002  @DPD_UK I asked for my parcel to be delivered ...   anger      0.896\n",
       "3  10003  so ef whichever butt wipe pulled the fire alar...   anger      0.896\n",
       "4  10004  Don't join @BTCare they put the phone down on ...   anger      0.896"
      ]
     },
     "execution_count": 13,
     "metadata": {},
     "output_type": "execute_result"
    }
   ],
   "source": [
    "### testing data\n",
    "anger_test = pd.read_csv(\"data/semeval/dev/anger-ratings-0to1.dev.gold.txt\",\n",
    "                         sep=\"\\t\", header=None, names=[\"id\", \"text\", \"emotion\", \"intensity\"])\n",
    "sadness_test = pd.read_csv(\"data/semeval/dev/sadness-ratings-0to1.dev.gold.txt\",\n",
    "                         sep=\"\\t\", header=None, names=[\"id\", \"text\", \"emotion\", \"intensity\"])\n",
    "fear_test = pd.read_csv(\"data/semeval/dev/fear-ratings-0to1.dev.gold.txt\",\n",
    "                         sep=\"\\t\", header=None, names=[\"id\", \"text\", \"emotion\", \"intensity\"])\n",
    "joy_test = pd.read_csv(\"data/semeval/dev/joy-ratings-0to1.dev.gold.txt\",\n",
    "                         sep=\"\\t\", header=None, names=[\"id\", \"text\", \"emotion\", \"intensity\"])\n",
    "\n",
    "# combine 4 sub-dataset\n",
    "test_df = pd.concat([anger_test, fear_test, joy_test, sadness_test], ignore_index=True)\n",
    "train_df.head()"
   ]
  },
  {
   "cell_type": "code",
   "execution_count": 14,
   "metadata": {},
   "outputs": [],
   "source": [
    "# shuffle dataset\n",
    "train_df = train_df.sample(frac=1)\n",
    "test_df = test_df.sample(frac=1)"
   ]
  },
  {
   "cell_type": "code",
   "execution_count": 15,
   "metadata": {},
   "outputs": [
    {
     "name": "stdout",
     "output_type": "stream",
     "text": [
      "Shape of Training df:  (3613, 4)\n",
      "Shape of Testing df:  (347, 4)\n"
     ]
    }
   ],
   "source": [
    "print(\"Shape of Training df: \", train_df.shape)\n",
    "print(\"Shape of Testing df: \", test_df.shape)"
   ]
  },
  {
   "cell_type": "markdown",
   "metadata": {},
   "source": [
    "## save to pickle file part_1_train_df and part_1_test_df"
   ]
  },
  {
   "cell_type": "code",
   "execution_count": 16,
   "metadata": {},
   "outputs": [],
   "source": [
    "## save to pickle file\n",
    "train_df.to_pickle(\"part_1_train_df.pkl\") \n",
    "test_df.to_pickle(\"part_1_test_df.pkl\")"
   ]
  },
  {
   "cell_type": "markdown",
   "metadata": {},
   "source": [
    "## load pickle file part_1_train_df and part_1_test_df"
   ]
  },
  {
   "cell_type": "code",
   "execution_count": 131,
   "metadata": {},
   "outputs": [],
   "source": [
    "import pandas as pd\n",
    "\n",
    "## load a pickle file\n",
    "train_df = pd.read_pickle(\"part_1_train_df.pkl\")\n",
    "test_df = pd.read_pickle(\"part_1_test_df.pkl\")"
   ]
  },
  {
   "cell_type": "markdown",
   "metadata": {},
   "source": [
    "---\n",
    "### ** >>> Exercise 1 (Take home): **  \n",
    "Plot word frequency for Top 30 words in both train and test dataset. (Hint: refer to DM lab 1)"
   ]
  },
  {
   "cell_type": "code",
   "execution_count": 132,
   "metadata": {},
   "outputs": [],
   "source": [
    "import matplotlib.pyplot as plt\n",
    "from sklearn.feature_extraction.text import CountVectorizer\n",
    "# Create two CountVectorizer objects for train and test, and get the 30 most frequent words\n",
    "BOW_vectorizer_train_top30 = CountVectorizer(max_features=30)\n",
    "BOW_vectorizer_test_top30 = CountVectorizer(max_features=30)\n",
    "\n",
    "# Convert text in the dataset to feature vectors\n",
    "count_train=BOW_vectorizer_train_top30.fit_transform(train_df['text'])\n",
    "count_test=BOW_vectorizer_test_top30.fit_transform(test_df['text'])"
   ]
  },
  {
   "cell_type": "code",
   "execution_count": 133,
   "metadata": {},
   "outputs": [
    {
     "data": {
      "image/png": "[encoded data removed]",
      "text/plain": [
       "<Figure size 2000x500 with 1 Axes>"
      ]
     },
     "metadata": {},
     "output_type": "display_data"
    }
   ],
   "source": [
    "# Calculate the total word frequency in the training dataset\n",
    "word_freq_train = count_train.sum(axis=0).A1\n",
    "# Obtain the words from the CountVectorizer\n",
    "vocabulary_train = BOW_vectorizer_train_top30.get_feature_names_out()\n",
    "word_freq_dict_train = dict(zip(vocabulary_train, word_freq_train))\n",
    "# Sort words by frequency to Extract the top 30 words.\n",
    "top_30_words_train = sorted(word_freq_dict_train, key=word_freq_dict_train.get, reverse=True)[:]\n",
    "word_freq = [word_freq_dict_train[w] for w in top_30_words_train]\n",
    "\n",
    "# Create a bar plot to visualize the word frequency distribution for the top 30 words.\n",
    "plt.figure(figsize=(20,5))\n",
    "plt.bar(top_30_words_train, word_freq)\n",
    "plt.xticks(rotation=90)\n",
    "plt.xlabel('Word')\n",
    "plt.ylabel('Frequency')\n",
    "plt.title('Train dataset Word Frequency Distribution Top 30')\n",
    "plt.show()"
   ]
  },
  {
   "cell_type": "code",
   "execution_count": 134,
   "metadata": {},
   "outputs": [
    {
     "data": {
      "image/png": "[encoded data removed]",
      "text/plain": [
       "<Figure size 2000x500 with 1 Axes>"
      ]
     },
     "metadata": {},
     "output_type": "display_data"
    }
   ],
   "source": [
    "# Calculate the total word frequency in the testing dataset\n",
    "word_freq_test = count_test.sum(axis=0).A1\n",
    "# Obtain the words from the CountVectorizer\n",
    "vocabulary_test = BOW_vectorizer_test_top30.get_feature_names_out()\n",
    "word_freq_dict_test = dict(zip(vocabulary_test, word_freq_test))\n",
    "# Sort words by frequency to Extract the top 30 words.\n",
    "top_30_words_test = sorted(word_freq_dict_test, key=word_freq_dict_test.get, reverse=True)[:]\n",
    "word_freq = [word_freq_dict_test[w] for w in top_30_words_test]\n",
    "\n",
    "# Create a bar plot to visualize the word frequency distribution for the top 30 words.\n",
    "plt.figure(figsize=(20,5))\n",
    "plt.bar(top_30_words_test, word_freq)\n",
    "plt.xticks(rotation=90)\n",
    "plt.xlabel('Word')\n",
    "plt.ylabel('Frequency')\n",
    "plt.title('Test dataset Word Frequency Distribution Top 30')\n",
    "plt.show()"
   ]
  },
  {
   "cell_type": "markdown",
   "metadata": {},
   "source": [
    "---\n",
    "### ** >>> Exercise 2 (Take home): **  \n",
    "Generate an embedding using the TF-IDF vectorizer instead of th BOW one with 1000 features and show the feature names for features [100:110]."
   ]
  },
  {
   "cell_type": "code",
   "execution_count": 135,
   "metadata": {},
   "outputs": [
    {
     "data": {
      "text/plain": [
       "array(['awful', 'b', 'baby', 'back', 'bad', 'ball', 'balls', 'bb18', 'bc',\n",
       "       'bday'], dtype=object)"
      ]
     },
     "execution_count": 135,
     "metadata": {},
     "output_type": "execute_result"
    }
   ],
   "source": [
    "import nltk\n",
    "from sklearn.feature_extraction.text import TfidfVectorizer\n",
    "# build analyzers (TfidfVectorizer)\n",
    "TFIDF_1000 = TfidfVectorizer(max_features=1000, tokenizer=nltk.word_tokenize) \n",
    "\n",
    "# apply analyzer to training data\n",
    "TFIDF_1000.fit(train_df['text'])\n",
    "\n",
    "# observe some feature names\n",
    "feature_names_1000 = TFIDF_1000.get_feature_names_out()\n",
    "feature_names_1000[100:110]"
   ]
  },
  {
   "cell_type": "markdown",
   "metadata": {},
   "source": [
    "---\n",
    "### ** >>> Exercise 3 (Take home): **  \n",
    "Can you interpret the results above? What do they mean?"
   ]
  },
  {
   "cell_type": "code",
   "execution_count": 136,
   "metadata": {},
   "outputs": [
    {
     "name": "stdout",
     "output_type": "stream",
     "text": [
      "X_train.shape:  (3613, 500)\n",
      "y_train.shape:  (3613,)\n",
      "X_test.shape:  (347, 500)\n",
      "y_test.shape:  (347,)\n"
     ]
    }
   ],
   "source": [
    "from sklearn.tree import DecisionTreeClassifier\n",
    "import nltk\n",
    "\n",
    "# Build analyzers (bag-of-words) with a maximum of 500 features and using NLTK's word tokenizer\n",
    "BOW_500 = CountVectorizer(max_features=500, tokenizer=nltk.word_tokenize) \n",
    "\n",
    "# apply analyzer to training data\n",
    "BOW_500.fit(train_df['text'])\n",
    "X_train_part1 = BOW_500.transform(train_df['text']) # Transform training text to feature vectors\n",
    "y_train_part1 = train_df['emotion'] # Set the target variable for training data\n",
    "\n",
    "# Apply the same analyzer to the testing data\n",
    "X_test_part1 = BOW_500.transform(test_df['text']) # Transform testing text to feature vectors\n",
    "y_test_part1 = test_df['emotion']  # Set the target variable for testing data\n",
    "\n",
    "# Print shapes to verify dimensions\n",
    "print('X_train.shape: ', X_train_part1.shape)\n",
    "print('y_train.shape: ', y_train_part1.shape)\n",
    "print('X_test.shape: ', X_test_part1.shape)\n",
    "print('y_test.shape: ', y_test_part1.shape)"
   ]
  },
  {
   "cell_type": "code",
   "execution_count": 137,
   "metadata": {},
   "outputs": [
    {
     "name": "stdout",
     "output_type": "stream",
     "text": [
      "training accuracy: 0.99\n",
      "testing accuracy: 0.68\n",
      "              precision    recall  f1-score   support\n",
      "\n",
      "       anger       0.66      0.68      0.67        84\n",
      "        fear       0.66      0.69      0.67       110\n",
      "         joy       0.72      0.71      0.71        79\n",
      "     sadness       0.70      0.64      0.67        74\n",
      "\n",
      "    accuracy                           0.68       347\n",
      "   macro avg       0.68      0.68      0.68       347\n",
      "weighted avg       0.68      0.68      0.68       347\n",
      "\n"
     ]
    }
   ],
   "source": [
    "## build DecisionTree model\n",
    "DT_model = DecisionTreeClassifier(random_state=1)\n",
    "\n",
    "# Training the DecisionTree model using the training data\n",
    "DT_model = DT_model.fit(X_train_part1, y_train_part1)\n",
    "\n",
    "# Predictions on both training and testing data\n",
    "y_train_pred = DT_model.predict(X_train_part1)\n",
    "y_test_pred = DT_model.predict(X_test_part1)\n",
    "\n",
    "# Calculate accuracy scores for training and testing sets\n",
    "from sklearn.metrics import accuracy_score\n",
    "\n",
    "acc_train = accuracy_score(y_true=y_train_part1, y_pred=y_train_pred)\n",
    "acc_test = accuracy_score(y_true=y_test_part1, y_pred=y_test_pred)\n",
    "\n",
    "print('training accuracy: {}'.format(round(acc_train, 2)))\n",
    "print('testing accuracy: {}'.format(round(acc_test, 2)))\n",
    "\n",
    "# Calculate precision, recall, and F1-score for the testing set\n",
    "from sklearn.metrics import classification_report\n",
    "\n",
    "print(classification_report(y_true=y_test_part1, y_pred=y_test_pred))"
   ]
  },
  {
   "cell_type": "code",
   "execution_count": 138,
   "metadata": {},
   "outputs": [],
   "source": [
    "## check by confusion matrix\n",
    "from sklearn.metrics import confusion_matrix\n",
    "# Generate the confusion matrix\n",
    "cm = confusion_matrix(y_true=y_test_part1, y_pred=y_test_pred) \n",
    "\n",
    "import matplotlib.pyplot as plt\n",
    "import seaborn as sns\n",
    "import numpy as np\n",
    "import itertools\n",
    "# Define a function for plotting the confusion matrix\n",
    "def plot_confusion_matrix(cm, classes, title='Confusion matrix',\n",
    "                          cmap=sns.cubehelix_palette(as_cmap=True)):\n",
    "    \"\"\"\n",
    "    This function is modified from: \n",
    "    http://scikit-learn.org/stable/auto_examples/model_selection/plot_confusion_matrix.html\n",
    "    \"\"\"\n",
    "    classes.sort() # Sort classes\n",
    "    tick_marks = np.arange(len(classes))    \n",
    "    \n",
    "    # Create a plot for the confusion matrix\n",
    "    fig, ax = plt.subplots(figsize=(5,5))\n",
    "    im = ax.imshow(cm, interpolation='nearest', cmap=cmap)\n",
    "    ax.figure.colorbar(im, ax=ax)\n",
    "    # Set labels and title for the plot\n",
    "    ax.set(xticks=np.arange(cm.shape[1]),\n",
    "           yticks=np.arange(cm.shape[0]),\n",
    "           xticklabels = classes,\n",
    "           yticklabels = classes,\n",
    "           title = title,\n",
    "           ylabel = 'True label',\n",
    "           xlabel = 'Predicted label')\n",
    "\n",
    "    fmt = 'd' # Format for displaying the values in cells\n",
    "    thresh = cm.max() / 2.   # Threshold for text coloring\n",
    "    # Add text annotations to the plot\n",
    "    for i, j in itertools.product(range(cm.shape[0]), range(cm.shape[1])):\n",
    "        plt.text(j, i, format(cm[i, j], fmt), horizontalalignment=\"center\", color=\"white\" if cm[i, j] > thresh else \"black\")\n",
    "    # Set ylim and adjust layout for better visualization\n",
    "    ylim_top = len(classes) - 0.5\n",
    "    plt.ylim([ylim_top, -.5])\n",
    "    plt.tight_layout()\n",
    "    plt.show()"
   ]
  },
  {
   "cell_type": "code",
   "execution_count": 139,
   "metadata": {},
   "outputs": [
    {
     "data": {
      "image/png": "[encoded data removed]",
      "text/plain": [
       "<Figure size 500x500 with 2 Axes>"
      ]
     },
     "metadata": {},
     "output_type": "display_data"
    }
   ],
   "source": [
    "# Plot the confusion matrix using the defined function\n",
    "my_tags = ['anger', 'fear', 'joy', 'sadness']\n",
    "plot_confusion_matrix(cm, classes=my_tags, title='Confusion matrix')"
   ]
  },
  {
   "cell_type": "markdown",
   "metadata": {},
   "source": [
    "<font color=lightblue>From the above results, we can observe that the overall accuracy of the model is 0.68, precision is between 0.66 and 0.72, recall is between 0.64 and 0.71, F1 score is between 0.67 and 0.71, and by observing the confusion matrix , we can find that the number of FN and FP predicted by each emotion label is close, so the precision, recall, and f1-score scores of each emotion label are not very different from each other, and the precision, recall, and f1-score of the same emotion label are not very different. The difference is not big, which means that the model prediction is stable and will not be particularly biased towards a certain label. The only shortcoming is that the accuracy is not high, which means that although the prediction is stable, it is not accurate enough."
   ]
  },
  {
   "cell_type": "markdown",
   "metadata": {},
   "source": [
    "---\n",
    "### ** >>> Exercise 4 (Take home): **  \n",
    "Build a model using a ```Naive Bayes``` model and train it. What are the testing results? \n",
    "\n",
    "*Reference*: https://scikit-learn.org/stable/modules/generated/sklearn.naive_bayes.MultinomialNB.html"
   ]
  },
  {
   "cell_type": "code",
   "execution_count": 140,
   "metadata": {},
   "outputs": [
    {
     "name": "stdout",
     "output_type": "stream",
     "text": [
      "training accuracy: 0.79\n",
      "testing accuracy: 0.7\n",
      "              precision    recall  f1-score   support\n",
      "\n",
      "       anger       0.63      0.65      0.64        84\n",
      "        fear       0.73      0.77      0.75       110\n",
      "         joy       0.78      0.71      0.74        79\n",
      "     sadness       0.64      0.62      0.63        74\n",
      "\n",
      "    accuracy                           0.70       347\n",
      "   macro avg       0.70      0.69      0.69       347\n",
      "weighted avg       0.70      0.70      0.70       347\n",
      "\n"
     ]
    }
   ],
   "source": [
    "from sklearn.naive_bayes import MultinomialNB\n",
    "# Create a Multinomial Naive Bayes model\n",
    "Mnb=MultinomialNB()\n",
    "\n",
    "## training\n",
    "Mnb = Mnb.fit(X_train_part1, y_train_part1)\n",
    "## predict\n",
    "y_train_pred_Mnb = Mnb.predict(X_train_part1)\n",
    "y_test_pred_Mnb = Mnb.predict(X_test_part1)\n",
    "\n",
    "acc_train_Mnb = accuracy_score(y_true=y_train_part1, y_pred=y_train_pred_Mnb)\n",
    "acc_test_Mnb = accuracy_score(y_true=y_test_part1, y_pred=y_test_pred_Mnb)\n",
    "\n",
    "print('training accuracy: {}'.format(round(acc_train_Mnb, 2)))\n",
    "print('testing accuracy: {}'.format(round(acc_test_Mnb, 2)))\n",
    "\n",
    "## precision, recall, f1-score\n",
    "from sklearn.metrics import classification_report\n",
    "\n",
    "print(classification_report(y_true=y_test_part1, y_pred=y_test_pred_Mnb))"
   ]
  },
  {
   "cell_type": "code",
   "execution_count": 141,
   "metadata": {},
   "outputs": [
    {
     "data": {
      "image/png": "[encoded data removed]",
      "text/plain": [
       "<Figure size 500x500 with 2 Axes>"
      ]
     },
     "metadata": {},
     "output_type": "display_data"
    }
   ],
   "source": [
    "cm2 = confusion_matrix(y_true=y_test_part1, y_pred=y_test_pred_Mnb) \n",
    "my_tags = ['anger', 'fear', 'joy', 'sadness']\n",
    "plot_confusion_matrix(cm2, classes=my_tags, title='Confusion matrix')"
   ]
  },
  {
   "cell_type": "markdown",
   "metadata": {},
   "source": [
    "<font color=lightblue>From the above results, we can observe that the overall accuracy of the model is 0.7, precision is between 0.63 and 0.78, recall is between 0.62 and 0.77, F1 score is between 0.63 and 0.75, and by observing the confusion matrix , we can find that the number of FN and FP predicted by each emotion label is close, so the scores of precision, recall, and f1-score of each emotion label are not very different, which means that the model prediction is stable and will not be particularly biased towards a certain label. From f1 - In the score, we can find that MultinomialNB has better prediction ability for fear and joy than other labels. The only drawback is that the accuracy is not high, which means that although the prediction is stable, it is not accurate enough."
   ]
  },
  {
   "cell_type": "markdown",
   "metadata": {},
   "source": [
    "---\n",
    "### ** >>> Exercise 5 (Take home): **  \n",
    "\n",
    "How do the results from the Naive Bayes model and the Decision Tree model compare? How do you interpret these differences? Use the theoretical background covered in class to try and explain these differences."
   ]
  },
  {
   "cell_type": "code",
   "execution_count": 142,
   "metadata": {},
   "outputs": [
    {
     "name": "stdout",
     "output_type": "stream",
     "text": [
      "Decision Tree model\n",
      "training accuracy: 0.99\n",
      "testing accuracy: 0.68\n",
      "              precision    recall  f1-score   support\n",
      "\n",
      "       anger       0.66      0.68      0.67        84\n",
      "        fear       0.66      0.69      0.67       110\n",
      "         joy       0.72      0.71      0.71        79\n",
      "     sadness       0.70      0.64      0.67        74\n",
      "\n",
      "    accuracy                           0.68       347\n",
      "   macro avg       0.68      0.68      0.68       347\n",
      "weighted avg       0.68      0.68      0.68       347\n",
      "\n"
     ]
    },
    {
     "data": {
      "image/png": "[encoded data removed]",
      "text/plain": [
       "<Figure size 500x500 with 2 Axes>"
      ]
     },
     "metadata": {},
     "output_type": "display_data"
    }
   ],
   "source": [
    "print('Decision Tree model')\n",
    "print('training accuracy: {}'.format(round(acc_train, 2)))\n",
    "print('testing accuracy: {}'.format(round(acc_test, 2)))\n",
    "print(classification_report(y_true=y_test_part1, y_pred=y_test_pred))\n",
    "plot_confusion_matrix(cm, classes=my_tags, title='Confusion matrix')"
   ]
  },
  {
   "cell_type": "code",
   "execution_count": 143,
   "metadata": {},
   "outputs": [
    {
     "name": "stdout",
     "output_type": "stream",
     "text": [
      "Naive Bayes model\n",
      "training accuracy: 0.79\n",
      "testing accuracy: 0.7\n",
      "              precision    recall  f1-score   support\n",
      "\n",
      "       anger       0.63      0.65      0.64        84\n",
      "        fear       0.73      0.77      0.75       110\n",
      "         joy       0.78      0.71      0.74        79\n",
      "     sadness       0.64      0.62      0.63        74\n",
      "\n",
      "    accuracy                           0.70       347\n",
      "   macro avg       0.70      0.69      0.69       347\n",
      "weighted avg       0.70      0.70      0.70       347\n",
      "\n"
     ]
    },
    {
     "data": {
      "image/png": "[encoded data removed]",
      "text/plain": [
       "<Figure size 500x500 with 2 Axes>"
      ]
     },
     "metadata": {},
     "output_type": "display_data"
    }
   ],
   "source": [
    "print('Naive Bayes model')\n",
    "print('training accuracy: {}'.format(round(acc_train_Mnb, 2)))\n",
    "print('testing accuracy: {}'.format(round(acc_test_Mnb, 2)))\n",
    "print(classification_report(y_true=y_test_part1, y_pred=y_test_pred_Mnb))\n",
    "plot_confusion_matrix(cm2, classes=my_tags, title='Confusion matrix')"
   ]
  },
  {
   "cell_type": "markdown",
   "metadata": {},
   "source": [
    "<font color=lightblue>Through the confusion matrix, we can find that among the performance of the two models, the Naive Bayes model is better at predicting fear. Although the f1-score of the Naive Bayes model for predicting anger and sadness seems much worse than the Decision Tree, in fact TP is only There is a difference of one or two, but because the sample size is small, the difference seems to be large, but in fact there is no difference. Therefore, the biggest difference between the two models is still the predictive ability of fear.\n",
    "\n",
    "<font color=lightblue>Naive Bayes assumes that features are independent, so it is suitable for processing sparse matrices, and its predictive ability for specific emotion categories is better than Decision Tree (in this result we know it is fear)\n",
    "\n",
    "<font color=lightblue>Decision Tree performs segmentation based on the nonlinear relationship between features and can handle nonlinear problems. It can generate rules with strong interpretability, but is prone to poor generalization ability. This explains why Decision Tree's prediction accuracy for the train dataset is as high as 0.99 and Naive Bayes's prediction accuracy for the train dataset is only 0.79. However, the prediction accuracy for the test dataset is that Naive Bayes is slightly better than Decision Tree.\n",
    "\n",
    "<font color=lightblue>Finally, we also found that among the four emotions of anger, fear, joy, and sadness, anger, fear, and sadness are all negative emotions. We speculate that the words may be very similar. Therefore, from the confusion matrix, we can see that anger , the three emotions of fear and sadness are easily misjudged."
   ]
  },
  {
   "cell_type": "code",
   "execution_count": 144,
   "metadata": {},
   "outputs": [],
   "source": [
    "#reset X_train_part1, y_train_part1, X_test_part1, y_test_part1\n",
    "X_train_part1 = BOW_500.transform(train_df['text'])\n",
    "y_train_part1 = train_df['emotion']\n",
    "\n",
    "X_test_part1 = BOW_500.transform(test_df['text'])\n",
    "y_test_part1 = test_df['emotion']"
   ]
  },
  {
   "cell_type": "markdown",
   "metadata": {},
   "source": [
    "---\n",
    "### ** >>> Exercise 6 (Take home): **  \n",
    "\n",
    "Plot the Training and Validation Accuracy and Loss (different plots), just like the images below.(Note: the pictures below are an example from a different model). How to interpret the graphs you got? How are they related to the concept of overfitting/underfitting covered in class?\n",
    "<table><tr>\n",
    "    <td><img src=\"pics/pic3.png\" style=\"width: 300px;\"/> </td>\n",
    "    <td><img src=\"pics/pic4.png\" style=\"width: 300px;\"/> </td>\n",
    "</tr></table>"
   ]
  },
  {
   "cell_type": "code",
   "execution_count": 145,
   "metadata": {},
   "outputs": [
    {
     "name": "stdout",
     "output_type": "stream",
     "text": [
      "check label:  ['anger' 'fear' 'joy' 'sadness']\n",
      "\n",
      "\n",
      "## After convert\n",
      "\n",
      "y_train.shape:  (3613, 4)\n",
      "y_test.shape:  (347, 4)\n"
     ]
    }
   ],
   "source": [
    "## deal with label (string -> one-hot)\n",
    "import keras\n",
    "from sklearn.preprocessing import LabelEncoder\n",
    "\n",
    "# Initialize and fit a LabelEncoder on the training labels\n",
    "label_encoder = LabelEncoder()\n",
    "label_encoder.fit(y_train_part1)\n",
    "\n",
    "# Display the unique classes that were encoded\n",
    "print('check label: ', label_encoder.classes_)\n",
    "\n",
    "# Function to encode labels into one-hot vectors\n",
    "def label_encode(le, labels):\n",
    "    enc = le.transform(labels)\n",
    "    return keras.utils.to_categorical(enc)\n",
    "\n",
    "# Function to decode one-hot vectors back into labels\n",
    "def label_decode(le, one_hot_label):\n",
    "    dec = np.argmax(one_hot_label, axis=1)\n",
    "    return le.inverse_transform(dec)\n",
    "\n",
    "# Encode both training and testing labels into one-hot vectors\n",
    "y_train_part1 = label_encode(label_encoder, y_train_part1)\n",
    "y_test_part1 = label_encode(label_encoder, y_test_part1)\n",
    "\n",
    "# Display shapes after the label conversion\n",
    "print('\\n\\n## After convert')\n",
    "print('\\ny_train.shape: ', y_train_part1.shape)\n",
    "print('y_test.shape: ', y_test_part1.shape)\n"
   ]
  },
  {
   "cell_type": "code",
   "execution_count": 146,
   "metadata": {},
   "outputs": [
    {
     "name": "stdout",
     "output_type": "stream",
     "text": [
      "input_shape:  500\n",
      "output_shape:  4\n"
     ]
    }
   ],
   "source": [
    "# I/O check\n",
    "input_shape = X_train_part1.shape[1]\n",
    "print('input_shape: ', input_shape)\n",
    "\n",
    "output_shape = len(label_encoder.classes_)\n",
    "print('output_shape: ', output_shape)\n",
    "from keras.models import Model\n",
    "from keras.layers import Input, Dense\n",
    "from keras.layers import ReLU, Softmax\n",
    "\n",
    "# input layer\n",
    "model_input = Input(shape=(input_shape, ))  # 500\n",
    "X = model_input\n",
    "\n",
    "# 1st hidden layer\n",
    "X_W1 = Dense(units=64)(X)  # 64\n",
    "H1 = ReLU()(X_W1)\n",
    "\n",
    "# 2nd hidden layer\n",
    "H1_W2 = Dense(units=64)(H1)  # 64\n",
    "H2 = ReLU()(H1_W2)\n",
    "\n",
    "# output layer\n",
    "H2_W3 = Dense(units=output_shape)(H2)  # 4\n",
    "H3 = Softmax()(H2_W3)\n",
    "\n",
    "model_output = H3\n",
    "\n",
    "# create model\n",
    "model = Model(inputs=[model_input], outputs=[model_output])\n",
    "\n",
    "# loss function & optimizer\n",
    "model.compile(optimizer='adam',\n",
    "              loss='categorical_crossentropy',\n",
    "              metrics=['accuracy'])"
   ]
  },
  {
   "cell_type": "code",
   "execution_count": 147,
   "metadata": {},
   "outputs": [
    {
     "name": "stdout",
     "output_type": "stream",
     "text": [
      "Epoch 1/25\n"
     ]
    },
    {
     "name": "stdout",
     "output_type": "stream",
     "text": [
      "113/113 [==============================] - 1s 2ms/step - loss: 1.3277 - accuracy: 0.3651 - val_loss: 1.2790 - val_accuracy: 0.4496\n",
      "Epoch 2/25\n",
      "113/113 [==============================] - 0s 1ms/step - loss: 0.9847 - accuracy: 0.6471 - val_loss: 0.8931 - val_accuracy: 0.6686\n",
      "Epoch 3/25\n",
      "113/113 [==============================] - 0s 1ms/step - loss: 0.5795 - accuracy: 0.7935 - val_loss: 0.7537 - val_accuracy: 0.7003\n",
      "Epoch 4/25\n",
      "113/113 [==============================] - 0s 1ms/step - loss: 0.4087 - accuracy: 0.8511 - val_loss: 0.7741 - val_accuracy: 0.7061\n",
      "Epoch 5/25\n",
      "113/113 [==============================] - 0s 1ms/step - loss: 0.3358 - accuracy: 0.8774 - val_loss: 0.8129 - val_accuracy: 0.7061\n",
      "Epoch 6/25\n",
      "113/113 [==============================] - 0s 1ms/step - loss: 0.2709 - accuracy: 0.9042 - val_loss: 0.8493 - val_accuracy: 0.6830\n",
      "Epoch 7/25\n",
      "113/113 [==============================] - 0s 1ms/step - loss: 0.2237 - accuracy: 0.9239 - val_loss: 0.8882 - val_accuracy: 0.6888\n",
      "Epoch 8/25\n",
      "113/113 [==============================] - 0s 1ms/step - loss: 0.1865 - accuracy: 0.9410 - val_loss: 0.9690 - val_accuracy: 0.6657\n",
      "Epoch 9/25\n",
      "113/113 [==============================] - 0s 1ms/step - loss: 0.1584 - accuracy: 0.9496 - val_loss: 1.0345 - val_accuracy: 0.6686\n",
      "Epoch 10/25\n",
      "113/113 [==============================] - 0s 2ms/step - loss: 0.1392 - accuracy: 0.9599 - val_loss: 1.0878 - val_accuracy: 0.6801\n",
      "Epoch 11/25\n",
      "113/113 [==============================] - 0s 1ms/step - loss: 0.1247 - accuracy: 0.9637 - val_loss: 1.1058 - val_accuracy: 0.6945\n",
      "Epoch 12/25\n",
      "113/113 [==============================] - 0s 1ms/step - loss: 0.1079 - accuracy: 0.9687 - val_loss: 1.1745 - val_accuracy: 0.6715\n",
      "Epoch 13/25\n",
      "113/113 [==============================] - 0s 1ms/step - loss: 0.1003 - accuracy: 0.9718 - val_loss: 1.1933 - val_accuracy: 0.6715\n",
      "Epoch 14/25\n",
      "113/113 [==============================] - 0s 1ms/step - loss: 0.0971 - accuracy: 0.9712 - val_loss: 1.2683 - val_accuracy: 0.6686\n",
      "Epoch 15/25\n",
      "113/113 [==============================] - 0s 1ms/step - loss: 0.0910 - accuracy: 0.9743 - val_loss: 1.2503 - val_accuracy: 0.6686\n",
      "Epoch 16/25\n",
      "113/113 [==============================] - 0s 1ms/step - loss: 0.0869 - accuracy: 0.9726 - val_loss: 1.3256 - val_accuracy: 0.6715\n",
      "Epoch 17/25\n",
      "113/113 [==============================] - 0s 1ms/step - loss: 0.0814 - accuracy: 0.9745 - val_loss: 1.3501 - val_accuracy: 0.6686\n",
      "Epoch 18/25\n",
      "113/113 [==============================] - 0s 1ms/step - loss: 0.0812 - accuracy: 0.9740 - val_loss: 1.3387 - val_accuracy: 0.6801\n",
      "Epoch 19/25\n",
      "113/113 [==============================] - 0s 1ms/step - loss: 0.0802 - accuracy: 0.9726 - val_loss: 1.3522 - val_accuracy: 0.6801\n",
      "Epoch 20/25\n",
      "113/113 [==============================] - 0s 1ms/step - loss: 0.0677 - accuracy: 0.9787 - val_loss: 1.4005 - val_accuracy: 0.6744\n",
      "Epoch 21/25\n",
      "113/113 [==============================] - 0s 1ms/step - loss: 0.0646 - accuracy: 0.9751 - val_loss: 1.3926 - val_accuracy: 0.6888\n",
      "Epoch 22/25\n",
      "113/113 [==============================] - 0s 1ms/step - loss: 0.0652 - accuracy: 0.9773 - val_loss: 1.4561 - val_accuracy: 0.6888\n",
      "Epoch 23/25\n",
      "113/113 [==============================] - 0s 1ms/step - loss: 0.0637 - accuracy: 0.9751 - val_loss: 1.4276 - val_accuracy: 0.6715\n",
      "Epoch 24/25\n",
      "113/113 [==============================] - 0s 1ms/step - loss: 0.0608 - accuracy: 0.9779 - val_loss: 1.4841 - val_accuracy: 0.6628\n",
      "Epoch 25/25\n",
      "113/113 [==============================] - 0s 1ms/step - loss: 0.0637 - accuracy: 0.9768 - val_loss: 1.4823 - val_accuracy: 0.6859\n",
      "training finish\n",
      "3/3 [==============================] - 0s 1ms/step\n",
      "testing accuracy: 0.69\n"
     ]
    }
   ],
   "source": [
    "from keras.callbacks import CSVLogger\n",
    "\n",
    "csv_logger = CSVLogger('logs/training_log.csv')\n",
    "\n",
    "# training setting\n",
    "epochs = 25\n",
    "batch_size = 32\n",
    "\n",
    "# training NN model\n",
    "history = model.fit(X_train_part1, y_train_part1, \n",
    "                    epochs=epochs, \n",
    "                    batch_size=batch_size, \n",
    "                    callbacks=[csv_logger],\n",
    "                    validation_data = (X_test_part1, y_test_part1))\n",
    "print('training finish')\n",
    "\n",
    "# Make predictions on the test data using the trained model\n",
    "pred_result = model.predict(X_test_part1, batch_size=128)\n",
    "# Decode the predicted results from one-hot vectors back to labels\n",
    "pred_result = label_decode(label_encoder, pred_result)\n",
    "from sklearn.metrics import accuracy_score\n",
    "\n",
    "print('testing accuracy: {}'.format(round(accuracy_score(label_decode(label_encoder, y_test_part1), pred_result), 2)))"
   ]
  },
  {
   "cell_type": "code",
   "execution_count": 148,
   "metadata": {},
   "outputs": [
    {
     "data": {
      "image/png": "[encoded data removed]",
      "text/plain": [
       "<Figure size 640x480 with 1 Axes>"
      ]
     },
     "metadata": {},
     "output_type": "display_data"
    }
   ],
   "source": [
    "import matplotlib.pyplot as plt\n",
    "\n",
    "# Plotting the training and validation accuracy from the 'history' object\n",
    "plt.plot(history.history['accuracy'])\n",
    "plt.plot(history.history['val_accuracy'])\n",
    "plt.title('Model Accuracy')\n",
    "plt.xlabel('Epoch')\n",
    "plt.ylabel('Accuracy')\n",
    "plt.legend(['Train accuracy', 'Val accuracy'], loc='upper left')\n",
    "plt.show()"
   ]
  },
  {
   "cell_type": "code",
   "execution_count": 149,
   "metadata": {},
   "outputs": [
    {
     "data": {
      "image/png": "[encoded data removed]",
      "text/plain": [
       "<Figure size 640x480 with 1 Axes>"
      ]
     },
     "metadata": {},
     "output_type": "display_data"
    }
   ],
   "source": [
    "# Plotting the training and validation loss from the 'history' object\n",
    "plt.plot(history.history['loss'])\n",
    "plt.plot(history.history['val_loss'])\n",
    "plt.title('Model Loss')\n",
    "plt.xlabel('Epoch')\n",
    "plt.ylabel('Loss')\n",
    "plt.legend(['Train loss', 'Val loss'], loc='upper left')\n",
    "plt.show()"
   ]
  },
  {
   "cell_type": "markdown",
   "metadata": {},
   "source": [
    "<font color=lightblue>From the chart Model Accuracy, we can observe that the Train accuracy will continue to improve as training progresses. Val accuracy rises rapidly in the first few epochs, but stops rising after about the fifth epoch, and fluctuates in a specific interval below the Train accuracy line. From Model Loss, we can observe that Train loss will gradually decrease as training progresses, while Val loss decreases rapidly at the beginning, but from about the fifth epoch onwards, Val loss gradually increases, and Val loss The loss line is higher than the Train loss line.\n",
    "<font color=lightblue>From the distribution of the Train and Validation lines of the chart Model Accuracy and Model Loss, we can see that the model's prediction accuracy for Train data is very high, but its prediction performance for Validation data is very low, which means that the model lacks generalization ability, which is the so-called Overfitting."
   ]
  },
  {
   "cell_type": "markdown",
   "metadata": {},
   "source": [
    "---\n",
    "### ** >>> Exercise 7 (Take home): **  \n",
    "\n",
    "Now, we have the word vectors, but our input data is a sequence of words (or say sentence). \n",
    "How can we utilize these \"word\" vectors to represent the sentence data and train our model?"
   ]
  },
  {
   "cell_type": "code",
   "execution_count": 150,
   "metadata": {},
   "outputs": [],
   "source": [
    "## check library\n",
    "import gensim\n",
    "\n",
    "## ignore warnings\n",
    "import warnings\n",
    "warnings.filterwarnings('ignore')\n",
    "\n",
    "# # if you want to see the training messages, you can use it\n",
    "# import logging\n",
    "# logging.basicConfig(format='%(asctime)s : %(levelname)s : %(message)s', level=logging.INFO)\n",
    "\n",
    "## the input type\n",
    "train_df['text_tokenized'] = train_df['text'].apply(lambda x: nltk.word_tokenize(x))\n",
    "training_corpus = train_df['text_tokenized'].values\n",
    "test_df['text_tokenized'] = test_df['text'].apply(lambda x: nltk.word_tokenize(x))"
   ]
  },
  {
   "cell_type": "code",
   "execution_count": 151,
   "metadata": {},
   "outputs": [
    {
     "name": "stdout",
     "output_type": "stream",
     "text": [
      "load ok\n"
     ]
    }
   ],
   "source": [
    "from gensim.models import KeyedVectors\n",
    "\n",
    "## Note: this model is very huge, this will take some time ...\n",
    "model_path = \"GoogleNews/GoogleNews-vectors-negative300.bin.gz\"\n",
    "w2v_google_model = KeyedVectors.load_word2vec_format(model_path, binary=True)\n",
    "print('load ok')"
   ]
  },
  {
   "cell_type": "code",
   "execution_count": 152,
   "metadata": {},
   "outputs": [
    {
     "name": "stdout",
     "output_type": "stream",
     "text": [
      "[ 0.03489287 -0.00119549  0.06909843  0.0999119  -0.03646983 -0.02041759\n",
      " -0.02931811 -0.10570227  0.13801642  0.10061115  0.01449884 -0.04699972\n",
      " -0.05617158 -0.01869268 -0.11240553  0.04212487  0.0696995   0.06736954\n",
      " -0.00087439  0.03100055  0.04348888  0.06342349  0.11340067 -0.03367781\n",
      " -0.07039742  0.05377429 -0.1092317   0.0749327   0.05811277  0.03175155\n",
      " -0.00081402  0.04208175 -0.00018377 -0.05554332 -0.00327351  0.05981445\n",
      "  0.02781478  0.08692601 -0.03651229  0.08925595  0.05007072 -0.12937462\n",
      "  0.16029955 -0.03982411 -0.03067415  0.02346868 -0.06574813 -0.07549784\n",
      "  0.010713   -0.03259145 -0.16483738  0.11107602  0.00544274  0.02107504\n",
      "  0.00555951  0.03455386 -0.04232125 -0.10246078  0.0731785  -0.06427798\n",
      " -0.01924465  0.01556131 -0.08708655 -0.02296779 -0.0654403  -0.11012135\n",
      " -0.04413041  0.00754448 -0.01910102  0.05538343  0.05809486  0.03108282\n",
      "  0.12954447 -0.02607528 -0.17056407 -0.03897227  0.04867288  0.07010684\n",
      "  0.02716761  0.04018767 -0.03628673 -0.02752354  0.04519786 -0.02147053\n",
      " -0.05792502 -0.00423531 -0.05321453  0.17041016  0.0948891   0.02322255\n",
      " -0.02664317  0.05707052 -0.06067823 -0.07480522  0.02455935  0.0389192\n",
      "  0.05952653 -0.03778209  0.00517074  0.00585274 -0.05828816 -0.09713215\n",
      " -0.01172538 -0.00339409 -0.03970536 -0.02959807 -0.08238154  0.0023545\n",
      " -0.03508593 -0.00375764 -0.09356424 -0.07153055 -0.03201957 -0.00813625\n",
      "  0.09605076  0.00450068  0.05188917 -0.08064005  0.1322194  -0.06229699\n",
      " -0.05976138 -0.02295718 -0.07449241  0.05457604  0.02083024 -0.01868206\n",
      " -0.08164115  0.00825832  0.01155422 -0.03151537 -0.073075   -0.06128726\n",
      " -0.07546334  0.01282269 -0.06285792 -0.03602666 -0.05648405 -0.02216372\n",
      "  0.04580025  0.11966075  0.09587827 -0.00435207  0.04161271 -0.07467055\n",
      " -0.00585407  0.02824734  0.03797448 -0.01586383  0.01074617 -0.07933243\n",
      "  0.11366272 -0.01837026 -0.0632019   0.04982592 -0.09898841  0.03765604\n",
      " -0.06338634 -0.02315422 -0.09551205  0.01157578 -0.09829175  0.05227263\n",
      "  0.00418754 -0.02233356 -0.06722359 -0.12314772  0.07336426 -0.00593899\n",
      " -0.00032906  0.06614088 -0.11238961  0.0176166  -0.00511103 -0.06196926\n",
      " -0.13568315  0.05353048  0.15727167 -0.05338453 -0.01297395  0.03063434\n",
      " -0.06727401 -0.04188604  0.08713565  0.02752553 -0.03863393 -0.01817255\n",
      " -0.03653087  0.10754925  0.11462933  0.03900943  0.05314305  0.03044328\n",
      "  0.03801163  0.03560605  0.03489751 -0.00158691 -0.07981408 -0.04561317\n",
      "  0.01366126 -0.11043648 -0.06631072  0.11086373 -0.11208177  0.01286515\n",
      " -0.01359226 -0.00424252 -0.07059379  0.03137738  0.04154902  0.03946122\n",
      " -0.01487666  0.07531373 -0.06507807 -0.00357984 -0.13013491  0.00865704\n",
      "  0.05502187  0.01761727 -0.10412598 -0.03369141 -0.1473654   0.03288468\n",
      " -0.01678931 -0.02441008  0.11932373 -0.05036462  0.03296031  0.01744013\n",
      " -0.08708522 -0.10608972  0.01378267 -0.04767377 -0.00354004  0.01533044\n",
      " -0.01825913  0.00193455  0.04204791 -0.06060393  0.01178642 -0.00657587\n",
      "  0.06614088  0.05154552  0.02062225 -0.10297161 -0.03579944  0.04357645\n",
      "  0.01348612  0.05417268  0.01127293 -0.08867081  0.04550304  0.07838307\n",
      "  0.11096722  0.05349864  0.06122388 -0.06780608  0.00822714 -0.01210088\n",
      " -0.04602714 -0.06679369  0.0090279   0.00303053 -0.04978346  0.01097571\n",
      "  0.02436629  0.07849519 -0.04519122  0.01632027 -0.03970735 -0.01235829\n",
      " -0.09436566  0.11458853  0.10502293  0.06120499 -0.01516591  0.0252261\n",
      " -0.0621046  -0.14084128 -0.04040395  0.06198518  0.11384649  0.05991629\n",
      " -0.01985102  0.14149608  0.05242655  0.01434061 -0.03031324 -0.04855554\n",
      "  0.01420262  0.00384521 -0.00236777  0.08213939 -0.1323554   0.04929783\n",
      " -0.09706182 -0.11717954 -0.10568735 -0.04921026 -0.00836978  0.03820801]\n"
     ]
    }
   ],
   "source": [
    "import numpy as np\n",
    "\n",
    "def sentence_vector(tokens):\n",
    "    word_vectors = []\n",
    "    for word in tokens:\n",
    "        # Check if the word exists in the Word2Vec model's index\n",
    "        if word in w2v_google_model.key_to_index:\n",
    "            # Convert words found in the model's index to vectors and append to word_vectors list\n",
    "            word_vectors.append(w2v_google_model[word])\n",
    "    # If no vectors representing words are found, return None\n",
    "    if not word_vectors:\n",
    "        return None\n",
    "    # Compute the sentence vector using the weighted average, assuming equal weights for all words\n",
    "    return np.mean(word_vectors, axis=0)\n",
    "\n",
    "# Convert each text's tokenized list into a corresponding sentence vector\n",
    "train_df['sentence_vector'] = train_df['text_tokenized'].apply(lambda x: sentence_vector(x))\n",
    "# Print the sentence vector for the first text\n",
    "print(train_df['sentence_vector'][0])\n"
   ]
  },
  {
   "cell_type": "markdown",
   "metadata": {},
   "source": [
    "<font color=lightblue>When we have Word Embeddings, you can use the average Pooling method to generate the embedding vector of the entire sentence (Sentence Embedding). This means summing up the embedding vectors for each word in the sentence and averaging them."
   ]
  },
  {
   "cell_type": "markdown",
   "metadata": {},
   "source": [
    "---\n",
    "### ** >>> Exercise 8 (Take home): **  \n",
    "\n",
    "Generate a t-SNE visualization to show the 15 words most related to the words \"angry\", \"happy\", \"sad\", \"fear\" (60 words total)."
   ]
  },
  {
   "cell_type": "code",
   "execution_count": 156,
   "metadata": {},
   "outputs": [
    {
     "name": "stdout",
     "output_type": "stream",
     "text": [
      "happy_words:  ['happy', 'glad', 'pleased', 'ecstatic', 'overjoyed', 'thrilled', 'satisfied', 'proud', 'delighted', 'disappointed', 'excited', 'happier', 'Said_Hirschbeck', 'elated', 'thankful']\n",
      "angry_words:  ['angry', 'irate', 'enraged', 'indignant', 'incensed', 'annoyed', 'agitated', 'frustrated', 'furious', 'unhappy', 'outraged', 'livid', 'irritated', 'exasperated', 'angrier']\n",
      "sad_words:  ['sad', 'saddening', 'Sad', 'saddened', 'heartbreaking', 'disheartening', 'Meny_Friedman', 'parishioner_Pat_Patello', 'saddens_me', 'distressing', 'reminders_bobbing', 'Turkoman_Shiites', 'saddest', 'unfortunate', 'sorry']\n",
      "fear_words:  ['fear', 'fearful', 'fears', 'Fear', 'fearing', 'worry', 'dread', 'feared', 'anxiety', 'apprehension', 'afraid', 'worries', 'concern', 'distrust', 'worried']\n",
      "\n",
      "target words: \n",
      "['happy', 'glad', 'pleased', 'ecstatic', 'overjoyed', 'thrilled', 'satisfied', 'proud', 'delighted', 'disappointed', 'excited', 'happier', 'Said_Hirschbeck', 'elated', 'thankful', 'angry', 'irate', 'enraged', 'indignant', 'incensed', 'annoyed', 'agitated', 'frustrated', 'furious', 'unhappy', 'outraged', 'livid', 'irritated', 'exasperated', 'angrier', 'sad', 'saddening', 'Sad', 'saddened', 'heartbreaking', 'disheartening', 'Meny_Friedman', 'parishioner_Pat_Patello', 'saddens_me', 'distressing', 'reminders_bobbing', 'Turkoman_Shiites', 'saddest', 'unfortunate', 'sorry', 'fear', 'fearful', 'fears', 'Fear', 'fearing', 'worry', 'dread', 'feared', 'anxiety', 'apprehension', 'afraid', 'worries', 'concern', 'distrust', 'worried']\n",
      "\n",
      "color list:\n",
      "['b', 'b', 'b', 'b', 'b', 'b', 'b', 'b', 'b', 'b', 'b', 'b', 'b', 'b', 'b', 'g', 'g', 'g', 'g', 'g', 'g', 'g', 'g', 'g', 'g', 'g', 'g', 'g', 'g', 'g', 'r', 'r', 'r', 'r', 'r', 'r', 'r', 'r', 'r', 'r', 'r', 'r', 'r', 'r', 'r', 'y', 'y', 'y', 'y', 'y', 'y', 'y', 'y', 'y', 'y', 'y', 'y', 'y', 'y', 'y']\n"
     ]
    },
    {
     "data": {
      "image/png": "[encoded data removed]",
      "text/plain": [
       "<Figure size 862.5x862.5 with 1 Axes>"
      ]
     },
     "metadata": {},
     "output_type": "display_data"
    }
   ],
   "source": [
    "word_list = [\"angry\", \"happy\", \"sad\", \"fear\"]\n",
    "\n",
    "topn = 15\n",
    "# Retrieve the most similar words to 'happy', 'angry', 'sad', and 'fear'\n",
    "happy_words = ['happy'] + [word_ for word_, sim_ in w2v_google_model.most_similar('happy', topn=topn-1)]\n",
    "angry_words = ['angry'] + [word_ for word_, sim_ in w2v_google_model.most_similar('angry', topn=topn-1)]        \n",
    "sad_words = ['sad'] + [word_ for word_, sim_ in w2v_google_model.most_similar('sad', topn=topn-1)]        \n",
    "fear_words = ['fear'] + [word_ for word_, sim_ in w2v_google_model.most_similar('fear', topn=topn-1)]        \n",
    "\n",
    "# Display the most similar words for each emotion\n",
    "print('happy_words: ', happy_words)\n",
    "print('angry_words: ', angry_words)\n",
    "print('sad_words: ', sad_words)\n",
    "print('fear_words: ', fear_words)\n",
    "\n",
    "# Create a list of target words\n",
    "target_words = happy_words + angry_words + sad_words + fear_words\n",
    "print('\\ntarget words: ')\n",
    "print(target_words)\n",
    "\n",
    "# Create a color list for plotting\n",
    "print('\\ncolor list:')\n",
    "cn = topn\n",
    "color = ['b'] * cn + ['g'] * cn + ['r'] * cn + ['y'] * cn\n",
    "print(color)\n",
    "%matplotlib inline\n",
    "import matplotlib.pyplot as plt\n",
    "from sklearn.manifold import TSNE\n",
    "\n",
    "## w2v model\n",
    "model = w2v_google_model\n",
    "\n",
    "## prepare training word vectors\n",
    "size = 200\n",
    "target_size = len(target_words)\n",
    "all_word = list(model.index_to_key)\n",
    "word_train = target_words + all_word[:size]\n",
    "X_train = model[word_train]\n",
    "\n",
    "## t-SNE model\n",
    "tsne = TSNE(n_components=2, metric='cosine', random_state=28)\n",
    "\n",
    "# Training t-SNE\n",
    "X_tsne = tsne.fit_transform(X_train)\n",
    "\n",
    "# Plot the t-SNE result\n",
    "plt.figure(figsize=(7.5, 7.5), dpi=115)\n",
    "plt.scatter(X_tsne[:target_size, 0], X_tsne[:target_size, 1], c=color)\n",
    "for label, x, y in zip(target_words, X_tsne[:target_size, 0], X_tsne[:target_size, 1]):\n",
    "    plt.annotate(label, xy=(x,y), xytext=(0,0),  textcoords='offset points')\n",
    "plt.show()"
   ]
  },
  {
   "cell_type": "markdown",
   "metadata": {},
   "source": [
    "<font color=lightblue> The blue dots represent happy_words, the green dots represent angry_words, the red dots represent sad_words, and the yellow dots represent fear_words.\n",
    "\n",
    "<font color=lightblue> From the figure, we can observe that the distribution of fear_words is far away from the words of other emotions, which means that the words related to fear_words are easier to distinguish. Happy_words is distributed adjacent to angry_words and sad_words, so we can speculate that distinguishing happy_words may be confused with angry_words and sad_words"
   ]
  },
  {
   "cell_type": "markdown",
   "metadata": {},
   "source": [
    "2. Second: __This part is worth 30% of your grade.__ Participate in the in-class [Kaggle Competition](https://www.kaggle.com/t/09b1d0f3f8584d06848252277cb535f2) regarding Emotion Recognition on Twitter by this link https://www.kaggle.com/t/09b1d0f3f8584d06848252277cb535f2."
   ]
  },
  {
   "cell_type": "code",
   "execution_count": 48,
   "metadata": {},
   "outputs": [
    {
     "data": {
      "text/html": [
       "<div>\n",
       "<style scoped>\n",
       "    .dataframe tbody tr th:only-of-type {\n",
       "        vertical-align: middle;\n",
       "    }\n",
       "\n",
       "    .dataframe tbody tr th {\n",
       "        vertical-align: top;\n",
       "    }\n",
       "\n",
       "    .dataframe thead th {\n",
       "        text-align: right;\n",
       "    }\n",
       "</style>\n",
       "<table border=\"1\" class=\"dataframe\">\n",
       "  <thead>\n",
       "    <tr style=\"text-align: right;\">\n",
       "      <th></th>\n",
       "      <th>tweet_id</th>\n",
       "      <th>text</th>\n",
       "    </tr>\n",
       "  </thead>\n",
       "  <tbody>\n",
       "    <tr>\n",
       "      <th>0</th>\n",
       "      <td>0x376b20</td>\n",
       "      <td>People who post \"add me on #Snapchat\" must be ...</td>\n",
       "    </tr>\n",
       "    <tr>\n",
       "      <th>1</th>\n",
       "      <td>0x2d5350</td>\n",
       "      <td>@brianklaas As we see, Trump is dangerous to #...</td>\n",
       "    </tr>\n",
       "    <tr>\n",
       "      <th>2</th>\n",
       "      <td>0x28b412</td>\n",
       "      <td>Confident of your obedience, I write to you, k...</td>\n",
       "    </tr>\n",
       "    <tr>\n",
       "      <th>3</th>\n",
       "      <td>0x1cd5b0</td>\n",
       "      <td>Now ISSA is stalking Tasha 😂😂😂 &lt;LH&gt;</td>\n",
       "    </tr>\n",
       "    <tr>\n",
       "      <th>4</th>\n",
       "      <td>0x2de201</td>\n",
       "      <td>\"Trust is not the same as faith. A friend is s...</td>\n",
       "    </tr>\n",
       "    <tr>\n",
       "      <th>...</th>\n",
       "      <td>...</td>\n",
       "      <td>...</td>\n",
       "    </tr>\n",
       "    <tr>\n",
       "      <th>1867530</th>\n",
       "      <td>0x316b80</td>\n",
       "      <td>When you buy the last 2 tickets remaining for ...</td>\n",
       "    </tr>\n",
       "    <tr>\n",
       "      <th>1867531</th>\n",
       "      <td>0x29d0cb</td>\n",
       "      <td>I swear all this hard work gone pay off one da...</td>\n",
       "    </tr>\n",
       "    <tr>\n",
       "      <th>1867532</th>\n",
       "      <td>0x2a6a4f</td>\n",
       "      <td>@Parcel2Go no card left when I wasn't in so I ...</td>\n",
       "    </tr>\n",
       "    <tr>\n",
       "      <th>1867533</th>\n",
       "      <td>0x24faed</td>\n",
       "      <td>Ah, corporate life, where you can date &lt;LH&gt; us...</td>\n",
       "    </tr>\n",
       "    <tr>\n",
       "      <th>1867534</th>\n",
       "      <td>0x34be8c</td>\n",
       "      <td>Blessed to be living #Sundayvibes &lt;LH&gt;</td>\n",
       "    </tr>\n",
       "  </tbody>\n",
       "</table>\n",
       "<p>1867535 rows × 2 columns</p>\n",
       "</div>"
      ],
      "text/plain": [
       "         tweet_id                                               text\n",
       "0        0x376b20  People who post \"add me on #Snapchat\" must be ...\n",
       "1        0x2d5350  @brianklaas As we see, Trump is dangerous to #...\n",
       "2        0x28b412  Confident of your obedience, I write to you, k...\n",
       "3        0x1cd5b0                Now ISSA is stalking Tasha 😂😂😂 <LH>\n",
       "4        0x2de201  \"Trust is not the same as faith. A friend is s...\n",
       "...           ...                                                ...\n",
       "1867530  0x316b80  When you buy the last 2 tickets remaining for ...\n",
       "1867531  0x29d0cb  I swear all this hard work gone pay off one da...\n",
       "1867532  0x2a6a4f  @Parcel2Go no card left when I wasn't in so I ...\n",
       "1867533  0x24faed  Ah, corporate life, where you can date <LH> us...\n",
       "1867534  0x34be8c             Blessed to be living #Sundayvibes <LH>\n",
       "\n",
       "[1867535 rows x 2 columns]"
      ]
     },
     "metadata": {},
     "output_type": "display_data"
    }
   ],
   "source": [
    "import pandas as pd\n",
    "# Read JSON file and select specific columns\n",
    "tweet_id = []\n",
    "text=[]\n",
    "tweet_data = pd.read_json(\"kaggle competition data sets/tweets_DM.json\", lines=True)\n",
    "tweet_data=tweet_data['_source'].to_dict()\n",
    "# Extract 'tweet_id' and 'text' columns from the JSON data\n",
    "for i in tweet_data:\n",
    "    tweet_id.append(tweet_data[i]['tweet']['tweet_id'])\n",
    "    text.append(tweet_data[i]['tweet']['text'])\n",
    "\n",
    "# Create DataFrames for 'tweet_id' and 'text'\n",
    "tweet_id=pd.DataFrame(tweet_id)\n",
    "text=pd.DataFrame(text)\n",
    "# Concatenate 'tweet_id' and 'text' DataFrames into a new DataFrame\n",
    "tweets_DM = pd.concat([tweet_id, text], axis=1)\n",
    "\n",
    "# Rename columns in the new DataFrame\n",
    "tweets_DM.columns = ['tweet_id', 'text']\n",
    "display(tweets_DM)"
   ]
  },
  {
   "cell_type": "code",
   "execution_count": 49,
   "metadata": {},
   "outputs": [],
   "source": [
    "import pandas as pd\n",
    "# Read data from CSV files ('data_identification.csv' and 'emotion.csv') with specified column names\n",
    "data_identification = pd.read_csv(\"kaggle competition data sets/data_identification.csv\", engine='python', names=[\"tweet_id\", \"identification\"])\n",
    "data_identification=data_identification.drop(data_identification.index[0])\n",
    "emotion = pd.read_csv(\"kaggle competition data sets/emotion.csv\", engine='python', names=[\"tweet_id\", \"emotion\"])\n",
    "emotion=emotion.drop(emotion.index[0]) # Dropping the header row"
   ]
  },
  {
   "cell_type": "code",
   "execution_count": 50,
   "metadata": {},
   "outputs": [
    {
     "data": {
      "text/html": [
       "<div>\n",
       "<style scoped>\n",
       "    .dataframe tbody tr th:only-of-type {\n",
       "        vertical-align: middle;\n",
       "    }\n",
       "\n",
       "    .dataframe tbody tr th {\n",
       "        vertical-align: top;\n",
       "    }\n",
       "\n",
       "    .dataframe thead th {\n",
       "        text-align: right;\n",
       "    }\n",
       "</style>\n",
       "<table border=\"1\" class=\"dataframe\">\n",
       "  <thead>\n",
       "    <tr style=\"text-align: right;\">\n",
       "      <th></th>\n",
       "      <th>tweet_id</th>\n",
       "      <th>text</th>\n",
       "      <th>identification</th>\n",
       "    </tr>\n",
       "  </thead>\n",
       "  <tbody>\n",
       "    <tr>\n",
       "      <th>0</th>\n",
       "      <td>0x376b20</td>\n",
       "      <td>People who post \"add me on #Snapchat\" must be ...</td>\n",
       "      <td>train</td>\n",
       "    </tr>\n",
       "    <tr>\n",
       "      <th>1</th>\n",
       "      <td>0x2d5350</td>\n",
       "      <td>@brianklaas As we see, Trump is dangerous to #...</td>\n",
       "      <td>train</td>\n",
       "    </tr>\n",
       "    <tr>\n",
       "      <th>2</th>\n",
       "      <td>0x28b412</td>\n",
       "      <td>Confident of your obedience, I write to you, k...</td>\n",
       "      <td>test</td>\n",
       "    </tr>\n",
       "    <tr>\n",
       "      <th>3</th>\n",
       "      <td>0x1cd5b0</td>\n",
       "      <td>Now ISSA is stalking Tasha 😂😂😂 &lt;LH&gt;</td>\n",
       "      <td>train</td>\n",
       "    </tr>\n",
       "    <tr>\n",
       "      <th>4</th>\n",
       "      <td>0x2de201</td>\n",
       "      <td>\"Trust is not the same as faith. A friend is s...</td>\n",
       "      <td>test</td>\n",
       "    </tr>\n",
       "    <tr>\n",
       "      <th>...</th>\n",
       "      <td>...</td>\n",
       "      <td>...</td>\n",
       "      <td>...</td>\n",
       "    </tr>\n",
       "    <tr>\n",
       "      <th>1867530</th>\n",
       "      <td>0x316b80</td>\n",
       "      <td>When you buy the last 2 tickets remaining for ...</td>\n",
       "      <td>test</td>\n",
       "    </tr>\n",
       "    <tr>\n",
       "      <th>1867531</th>\n",
       "      <td>0x29d0cb</td>\n",
       "      <td>I swear all this hard work gone pay off one da...</td>\n",
       "      <td>test</td>\n",
       "    </tr>\n",
       "    <tr>\n",
       "      <th>1867532</th>\n",
       "      <td>0x2a6a4f</td>\n",
       "      <td>@Parcel2Go no card left when I wasn't in so I ...</td>\n",
       "      <td>test</td>\n",
       "    </tr>\n",
       "    <tr>\n",
       "      <th>1867533</th>\n",
       "      <td>0x24faed</td>\n",
       "      <td>Ah, corporate life, where you can date &lt;LH&gt; us...</td>\n",
       "      <td>train</td>\n",
       "    </tr>\n",
       "    <tr>\n",
       "      <th>1867534</th>\n",
       "      <td>0x34be8c</td>\n",
       "      <td>Blessed to be living #Sundayvibes &lt;LH&gt;</td>\n",
       "      <td>train</td>\n",
       "    </tr>\n",
       "  </tbody>\n",
       "</table>\n",
       "<p>1867535 rows × 3 columns</p>\n",
       "</div>"
      ],
      "text/plain": [
       "         tweet_id                                               text  \\\n",
       "0        0x376b20  People who post \"add me on #Snapchat\" must be ...   \n",
       "1        0x2d5350  @brianklaas As we see, Trump is dangerous to #...   \n",
       "2        0x28b412  Confident of your obedience, I write to you, k...   \n",
       "3        0x1cd5b0                Now ISSA is stalking Tasha 😂😂😂 <LH>   \n",
       "4        0x2de201  \"Trust is not the same as faith. A friend is s...   \n",
       "...           ...                                                ...   \n",
       "1867530  0x316b80  When you buy the last 2 tickets remaining for ...   \n",
       "1867531  0x29d0cb  I swear all this hard work gone pay off one da...   \n",
       "1867532  0x2a6a4f  @Parcel2Go no card left when I wasn't in so I ...   \n",
       "1867533  0x24faed  Ah, corporate life, where you can date <LH> us...   \n",
       "1867534  0x34be8c             Blessed to be living #Sundayvibes <LH>   \n",
       "\n",
       "        identification  \n",
       "0                train  \n",
       "1                train  \n",
       "2                 test  \n",
       "3                train  \n",
       "4                 test  \n",
       "...                ...  \n",
       "1867530           test  \n",
       "1867531           test  \n",
       "1867532           test  \n",
       "1867533          train  \n",
       "1867534          train  \n",
       "\n",
       "[1867535 rows x 3 columns]"
      ]
     },
     "metadata": {},
     "output_type": "display_data"
    }
   ],
   "source": [
    "# Merging tweets_DM DataFrame with data_identification DataFrame on 'tweet_id' column\n",
    "df = pd.merge(tweets_DM, data_identification, on='tweet_id')\n",
    "\n",
    "# Reordering the columns in the DataFrame\n",
    "df = df[['tweet_id', 'text', 'identification']]\n",
    "\n",
    "# Displaying the merged DataFrame\n",
    "display(df)"
   ]
  },
  {
   "cell_type": "code",
   "execution_count": 51,
   "metadata": {},
   "outputs": [
    {
     "data": {
      "text/html": [
       "<div>\n",
       "<style scoped>\n",
       "    .dataframe tbody tr th:only-of-type {\n",
       "        vertical-align: middle;\n",
       "    }\n",
       "\n",
       "    .dataframe tbody tr th {\n",
       "        vertical-align: top;\n",
       "    }\n",
       "\n",
       "    .dataframe thead th {\n",
       "        text-align: right;\n",
       "    }\n",
       "</style>\n",
       "<table border=\"1\" class=\"dataframe\">\n",
       "  <thead>\n",
       "    <tr style=\"text-align: right;\">\n",
       "      <th></th>\n",
       "      <th>tweet_id</th>\n",
       "      <th>text</th>\n",
       "      <th>emotion</th>\n",
       "    </tr>\n",
       "  </thead>\n",
       "  <tbody>\n",
       "    <tr>\n",
       "      <th>0</th>\n",
       "      <td>0x376b20</td>\n",
       "      <td>People who post \"add me on #Snapchat\" must be ...</td>\n",
       "      <td>anticipation</td>\n",
       "    </tr>\n",
       "    <tr>\n",
       "      <th>1</th>\n",
       "      <td>0x2d5350</td>\n",
       "      <td>@brianklaas As we see, Trump is dangerous to #...</td>\n",
       "      <td>sadness</td>\n",
       "    </tr>\n",
       "    <tr>\n",
       "      <th>2</th>\n",
       "      <td>0x1cd5b0</td>\n",
       "      <td>Now ISSA is stalking Tasha 😂😂😂 &lt;LH&gt;</td>\n",
       "      <td>fear</td>\n",
       "    </tr>\n",
       "    <tr>\n",
       "      <th>3</th>\n",
       "      <td>0x1d755c</td>\n",
       "      <td>@RISKshow @TheKevinAllison Thx for the BEST TI...</td>\n",
       "      <td>joy</td>\n",
       "    </tr>\n",
       "    <tr>\n",
       "      <th>4</th>\n",
       "      <td>0x2c91a8</td>\n",
       "      <td>Still waiting on those supplies Liscus. &lt;LH&gt;</td>\n",
       "      <td>anticipation</td>\n",
       "    </tr>\n",
       "    <tr>\n",
       "      <th>...</th>\n",
       "      <td>...</td>\n",
       "      <td>...</td>\n",
       "      <td>...</td>\n",
       "    </tr>\n",
       "    <tr>\n",
       "      <th>1455558</th>\n",
       "      <td>0x321566</td>\n",
       "      <td>I'm SO HAPPY!!! #NoWonder the name of this sho...</td>\n",
       "      <td>joy</td>\n",
       "    </tr>\n",
       "    <tr>\n",
       "      <th>1455559</th>\n",
       "      <td>0x38959e</td>\n",
       "      <td>In every circumtance I'd like to be thankful t...</td>\n",
       "      <td>joy</td>\n",
       "    </tr>\n",
       "    <tr>\n",
       "      <th>1455560</th>\n",
       "      <td>0x2cbca6</td>\n",
       "      <td>there's currently two girls walking around the...</td>\n",
       "      <td>joy</td>\n",
       "    </tr>\n",
       "    <tr>\n",
       "      <th>1455561</th>\n",
       "      <td>0x24faed</td>\n",
       "      <td>Ah, corporate life, where you can date &lt;LH&gt; us...</td>\n",
       "      <td>joy</td>\n",
       "    </tr>\n",
       "    <tr>\n",
       "      <th>1455562</th>\n",
       "      <td>0x34be8c</td>\n",
       "      <td>Blessed to be living #Sundayvibes &lt;LH&gt;</td>\n",
       "      <td>joy</td>\n",
       "    </tr>\n",
       "  </tbody>\n",
       "</table>\n",
       "<p>1455563 rows × 3 columns</p>\n",
       "</div>"
      ],
      "text/plain": [
       "         tweet_id                                               text  \\\n",
       "0        0x376b20  People who post \"add me on #Snapchat\" must be ...   \n",
       "1        0x2d5350  @brianklaas As we see, Trump is dangerous to #...   \n",
       "2        0x1cd5b0                Now ISSA is stalking Tasha 😂😂😂 <LH>   \n",
       "3        0x1d755c  @RISKshow @TheKevinAllison Thx for the BEST TI...   \n",
       "4        0x2c91a8       Still waiting on those supplies Liscus. <LH>   \n",
       "...           ...                                                ...   \n",
       "1455558  0x321566  I'm SO HAPPY!!! #NoWonder the name of this sho...   \n",
       "1455559  0x38959e  In every circumtance I'd like to be thankful t...   \n",
       "1455560  0x2cbca6  there's currently two girls walking around the...   \n",
       "1455561  0x24faed  Ah, corporate life, where you can date <LH> us...   \n",
       "1455562  0x34be8c             Blessed to be living #Sundayvibes <LH>   \n",
       "\n",
       "              emotion  \n",
       "0        anticipation  \n",
       "1             sadness  \n",
       "2                fear  \n",
       "3                 joy  \n",
       "4        anticipation  \n",
       "...               ...  \n",
       "1455558           joy  \n",
       "1455559           joy  \n",
       "1455560           joy  \n",
       "1455561           joy  \n",
       "1455562           joy  \n",
       "\n",
       "[1455563 rows x 3 columns]"
      ]
     },
     "metadata": {},
     "output_type": "display_data"
    }
   ],
   "source": [
    "# Filter rows with 'identification' as 'train' to create df_train\n",
    "df_train=df[df['identification']=='train']\n",
    "# Filter rows with 'identification' as 'test' to create df_test\n",
    "df_test=df[df['identification']=='test']\n",
    "# Drop the 'identification' column from df_train and df_test\n",
    "df_train = df_train.drop('identification', axis=1)\n",
    "df_test = df_test.drop('identification', axis=1)\n",
    "\n",
    "# Merge df_train with the emotion DataFrame based on the common 'tweet_id' column\n",
    "df_train = pd.merge(df_train, emotion, on='tweet_id')\n",
    "\n",
    "# Rearrange columns in df_train to have 'tweet_id', 'text', and 'emotion' in that order\n",
    "df_train = df_train[['tweet_id', 'text', 'emotion']]\n",
    "display(df_train)"
   ]
  },
  {
   "cell_type": "markdown",
   "metadata": {},
   "source": [
    "## save to pickle file"
   ]
  },
  {
   "cell_type": "code",
   "execution_count": 52,
   "metadata": {},
   "outputs": [],
   "source": [
    "## save to pickle file\n",
    "df_train.to_pickle(\"df_train.pkl\") \n",
    "df_test.to_pickle(\"df_test.pkl\")"
   ]
  },
  {
   "cell_type": "markdown",
   "metadata": {},
   "source": [
    "## load a pickle file"
   ]
  },
  {
   "cell_type": "code",
   "execution_count": 24,
   "metadata": {},
   "outputs": [],
   "source": [
    "import pandas as pd\n",
    "\n",
    "## load a pickle file\n",
    "df_train = pd.read_pickle(\"df_train.pkl\")\n",
    "df_test = pd.read_pickle(\"df_test.pkl\")"
   ]
  },
  {
   "cell_type": "code",
   "execution_count": 25,
   "metadata": {},
   "outputs": [
    {
     "data": {
      "text/html": [
       "<div>\n",
       "<style scoped>\n",
       "    .dataframe tbody tr th:only-of-type {\n",
       "        vertical-align: middle;\n",
       "    }\n",
       "\n",
       "    .dataframe tbody tr th {\n",
       "        vertical-align: top;\n",
       "    }\n",
       "\n",
       "    .dataframe thead th {\n",
       "        text-align: right;\n",
       "    }\n",
       "</style>\n",
       "<table border=\"1\" class=\"dataframe\">\n",
       "  <thead>\n",
       "    <tr style=\"text-align: right;\">\n",
       "      <th></th>\n",
       "      <th>tweet_id</th>\n",
       "      <th>text</th>\n",
       "    </tr>\n",
       "  </thead>\n",
       "  <tbody>\n",
       "    <tr>\n",
       "      <th>2</th>\n",
       "      <td>0x28b412</td>\n",
       "      <td>Confident of your obedience, I write to you, k...</td>\n",
       "    </tr>\n",
       "    <tr>\n",
       "      <th>4</th>\n",
       "      <td>0x2de201</td>\n",
       "      <td>\"Trust is not the same as faith. A friend is s...</td>\n",
       "    </tr>\n",
       "    <tr>\n",
       "      <th>9</th>\n",
       "      <td>0x218443</td>\n",
       "      <td>When do you have enough ? When are you satisfi...</td>\n",
       "    </tr>\n",
       "    <tr>\n",
       "      <th>30</th>\n",
       "      <td>0x2939d5</td>\n",
       "      <td>God woke you up, now chase the day #GodsPlan #...</td>\n",
       "    </tr>\n",
       "    <tr>\n",
       "      <th>33</th>\n",
       "      <td>0x26289a</td>\n",
       "      <td>In these tough times, who do YOU turn to as yo...</td>\n",
       "    </tr>\n",
       "    <tr>\n",
       "      <th>...</th>\n",
       "      <td>...</td>\n",
       "      <td>...</td>\n",
       "    </tr>\n",
       "    <tr>\n",
       "      <th>1867525</th>\n",
       "      <td>0x2913b4</td>\n",
       "      <td>\"For this is the message that ye heard from th...</td>\n",
       "    </tr>\n",
       "    <tr>\n",
       "      <th>1867529</th>\n",
       "      <td>0x2a980e</td>\n",
       "      <td>\"There is a lad here, which hath five barley l...</td>\n",
       "    </tr>\n",
       "    <tr>\n",
       "      <th>1867530</th>\n",
       "      <td>0x316b80</td>\n",
       "      <td>When you buy the last 2 tickets remaining for ...</td>\n",
       "    </tr>\n",
       "    <tr>\n",
       "      <th>1867531</th>\n",
       "      <td>0x29d0cb</td>\n",
       "      <td>I swear all this hard work gone pay off one da...</td>\n",
       "    </tr>\n",
       "    <tr>\n",
       "      <th>1867532</th>\n",
       "      <td>0x2a6a4f</td>\n",
       "      <td>@Parcel2Go no card left when I wasn't in so I ...</td>\n",
       "    </tr>\n",
       "  </tbody>\n",
       "</table>\n",
       "<p>411972 rows × 2 columns</p>\n",
       "</div>"
      ],
      "text/plain": [
       "         tweet_id                                               text\n",
       "2        0x28b412  Confident of your obedience, I write to you, k...\n",
       "4        0x2de201  \"Trust is not the same as faith. A friend is s...\n",
       "9        0x218443  When do you have enough ? When are you satisfi...\n",
       "30       0x2939d5  God woke you up, now chase the day #GodsPlan #...\n",
       "33       0x26289a  In these tough times, who do YOU turn to as yo...\n",
       "...           ...                                                ...\n",
       "1867525  0x2913b4  \"For this is the message that ye heard from th...\n",
       "1867529  0x2a980e  \"There is a lad here, which hath five barley l...\n",
       "1867530  0x316b80  When you buy the last 2 tickets remaining for ...\n",
       "1867531  0x29d0cb  I swear all this hard work gone pay off one da...\n",
       "1867532  0x2a6a4f  @Parcel2Go no card left when I wasn't in so I ...\n",
       "\n",
       "[411972 rows x 2 columns]"
      ]
     },
     "metadata": {},
     "output_type": "display_data"
    }
   ],
   "source": [
    "display(df_test)"
   ]
  },
  {
   "cell_type": "code",
   "execution_count": 26,
   "metadata": {},
   "outputs": [],
   "source": [
    "df_train = df_train.sample(frac=1,ignore_index=True)"
   ]
  },
  {
   "cell_type": "markdown",
   "metadata": {},
   "source": [
    "## overview datasets"
   ]
  },
  {
   "cell_type": "code",
   "execution_count": 27,
   "metadata": {},
   "outputs": [
    {
     "data": {
      "image/png": "[encoded data removed]",
      "text/plain": [
       "<Figure size 500x300 with 1 Axes>"
      ]
     },
     "metadata": {},
     "output_type": "display_data"
    }
   ],
   "source": [
    "%matplotlib inline\n",
    "import matplotlib.pyplot as plt\n",
    "\n",
    "# the histogram of the data\n",
    "labels = df_train['emotion'].unique()\n",
    "post_total = len(df_train)\n",
    "df1 = df_train.groupby(['emotion']).count()['text']\n",
    "df1 = df1.apply(lambda x: round(x*100/post_total,3))\n",
    "\n",
    "#plot\n",
    "fig, ax = plt.subplots(figsize=(5,3))\n",
    "plt.bar(df1.index,df1.values)\n",
    "\n",
    "#arrange\n",
    "plt.ylabel('% of instances')\n",
    "plt.xlabel('Emotion')\n",
    "plt.title('Emotion distribution')\n",
    "plt.grid(True)\n",
    "plt.show()"
   ]
  },
  {
   "cell_type": "code",
   "execution_count": 28,
   "metadata": {},
   "outputs": [
    {
     "data": {
      "text/html": [
       "<div>\n",
       "<style scoped>\n",
       "    .dataframe tbody tr th:only-of-type {\n",
       "        vertical-align: middle;\n",
       "    }\n",
       "\n",
       "    .dataframe tbody tr th {\n",
       "        vertical-align: top;\n",
       "    }\n",
       "\n",
       "    .dataframe thead th {\n",
       "        text-align: right;\n",
       "    }\n",
       "</style>\n",
       "<table border=\"1\" class=\"dataframe\">\n",
       "  <thead>\n",
       "    <tr style=\"text-align: right;\">\n",
       "      <th></th>\n",
       "      <th>tweet_id</th>\n",
       "      <th>text</th>\n",
       "      <th>emotion</th>\n",
       "    </tr>\n",
       "  </thead>\n",
       "  <tbody>\n",
       "    <tr>\n",
       "      <th>0</th>\n",
       "      <td>0x1c829e</td>\n",
       "      <td>I enjoy #fantasy. I even #write it. But I've l...</td>\n",
       "      <td>joy</td>\n",
       "    </tr>\n",
       "    <tr>\n",
       "      <th>1</th>\n",
       "      <td>0x332b7f</td>\n",
       "      <td>@natashattodd this is good &lt;LH&gt;</td>\n",
       "      <td>joy</td>\n",
       "    </tr>\n",
       "    <tr>\n",
       "      <th>2</th>\n",
       "      <td>0x316a47</td>\n",
       "      <td>When you think you’ve done all YOU can do and ...</td>\n",
       "      <td>joy</td>\n",
       "    </tr>\n",
       "    <tr>\n",
       "      <th>3</th>\n",
       "      <td>0x2d1c09</td>\n",
       "      <td>Surprise &lt;LH&gt;  Is the best combination</td>\n",
       "      <td>sadness</td>\n",
       "    </tr>\n",
       "    <tr>\n",
       "      <th>4</th>\n",
       "      <td>0x212615</td>\n",
       "      <td>Of knowledge', 'human', should be capable of a...</td>\n",
       "      <td>joy</td>\n",
       "    </tr>\n",
       "    <tr>\n",
       "      <th>...</th>\n",
       "      <td>...</td>\n",
       "      <td>...</td>\n",
       "      <td>...</td>\n",
       "    </tr>\n",
       "    <tr>\n",
       "      <th>1455558</th>\n",
       "      <td>0x21ef07</td>\n",
       "      <td>That awkward moment when you see a co-worker a...</td>\n",
       "      <td>sadness</td>\n",
       "    </tr>\n",
       "    <tr>\n",
       "      <th>1455559</th>\n",
       "      <td>0x35e5a1</td>\n",
       "      <td>@AbdulVogue @PaulaAbdul Love❤️♥️💟💌💘 love you P...</td>\n",
       "      <td>joy</td>\n",
       "    </tr>\n",
       "    <tr>\n",
       "      <th>1455560</th>\n",
       "      <td>0x216d3e</td>\n",
       "      <td>And I'll be happy for you If you can be happy ...</td>\n",
       "      <td>joy</td>\n",
       "    </tr>\n",
       "    <tr>\n",
       "      <th>1455561</th>\n",
       "      <td>0x226d72</td>\n",
       "      <td>People work hard to look rich .. Not to be rea...</td>\n",
       "      <td>disgust</td>\n",
       "    </tr>\n",
       "    <tr>\n",
       "      <th>1455562</th>\n",
       "      <td>0x289077</td>\n",
       "      <td>You know that saying \"If you want something do...</td>\n",
       "      <td>anger</td>\n",
       "    </tr>\n",
       "  </tbody>\n",
       "</table>\n",
       "<p>1455563 rows × 3 columns</p>\n",
       "</div>"
      ],
      "text/plain": [
       "         tweet_id                                               text  emotion\n",
       "0        0x1c829e  I enjoy #fantasy. I even #write it. But I've l...      joy\n",
       "1        0x332b7f                    @natashattodd this is good <LH>      joy\n",
       "2        0x316a47  When you think you’ve done all YOU can do and ...      joy\n",
       "3        0x2d1c09             Surprise <LH>  Is the best combination  sadness\n",
       "4        0x212615  Of knowledge', 'human', should be capable of a...      joy\n",
       "...           ...                                                ...      ...\n",
       "1455558  0x21ef07  That awkward moment when you see a co-worker a...  sadness\n",
       "1455559  0x35e5a1  @AbdulVogue @PaulaAbdul Love❤️♥️💟💌💘 love you P...      joy\n",
       "1455560  0x216d3e  And I'll be happy for you If you can be happy ...      joy\n",
       "1455561  0x226d72  People work hard to look rich .. Not to be rea...  disgust\n",
       "1455562  0x289077  You know that saying \"If you want something do...    anger\n",
       "\n",
       "[1455563 rows x 3 columns]"
      ]
     },
     "execution_count": 28,
     "metadata": {},
     "output_type": "execute_result"
    }
   ],
   "source": [
    "df_train"
   ]
  },
  {
   "cell_type": "markdown",
   "metadata": {},
   "source": [
    "## data preprocessing"
   ]
  },
  {
   "cell_type": "code",
   "execution_count": 29,
   "metadata": {},
   "outputs": [],
   "source": [
    "from sklearn.model_selection import train_test_split\n",
    "\n",
    "X=df_train['text']\n",
    "y=df_train['emotion']\n",
    "# Splitting the data into training and testing sets (80% for testing, 20% for training)\n",
    "# Use 'stratify=y' parameter ensures that the class distribution in the split datasets is similar to the original distribution of the target variable\n",
    "X_train, X_test, y_train, y_test = train_test_split(X, y, test_size=0.8, stratify=y, random_state=110191038)"
   ]
  },
  {
   "cell_type": "code",
   "execution_count": 30,
   "metadata": {},
   "outputs": [
    {
     "name": "stderr",
     "output_type": "stream",
     "text": [
      "c:\\Users\\longy\\AppData\\Local\\Programs\\Python\\Python311\\Lib\\site-packages\\sklearn\\feature_extraction\\text.py:525: UserWarning: The parameter 'token_pattern' will not be used since 'tokenizer' is not None'\n",
      "  warnings.warn(\n"
     ]
    },
    {
     "data": {
      "text/html": [
       "<style>#sk-container-id-3 {color: black;}#sk-container-id-3 pre{padding: 0;}#sk-container-id-3 div.sk-toggleable {background-color: white;}#sk-container-id-3 label.sk-toggleable__label {cursor: pointer;display: block;width: 100%;margin-bottom: 0;padding: 0.3em;box-sizing: border-box;text-align: center;}#sk-container-id-3 label.sk-toggleable__label-arrow:before {content: \"▸\";float: left;margin-right: 0.25em;color: #696969;}#sk-container-id-3 label.sk-toggleable__label-arrow:hover:before {color: black;}#sk-container-id-3 div.sk-estimator:hover label.sk-toggleable__label-arrow:before {color: black;}#sk-container-id-3 div.sk-toggleable__content {max-height: 0;max-width: 0;overflow: hidden;text-align: left;background-color: #f0f8ff;}#sk-container-id-3 div.sk-toggleable__content pre {margin: 0.2em;color: black;border-radius: 0.25em;background-color: #f0f8ff;}#sk-container-id-3 input.sk-toggleable__control:checked~div.sk-toggleable__content {max-height: 200px;max-width: 100%;overflow: auto;}#sk-container-id-3 input.sk-toggleable__control:checked~label.sk-toggleable__label-arrow:before {content: \"▾\";}#sk-container-id-3 div.sk-estimator input.sk-toggleable__control:checked~label.sk-toggleable__label {background-color: #d4ebff;}#sk-container-id-3 div.sk-label input.sk-toggleable__control:checked~label.sk-toggleable__label {background-color: #d4ebff;}#sk-container-id-3 input.sk-hidden--visually {border: 0;clip: rect(1px 1px 1px 1px);clip: rect(1px, 1px, 1px, 1px);height: 1px;margin: -1px;overflow: hidden;padding: 0;position: absolute;width: 1px;}#sk-container-id-3 div.sk-estimator {font-family: monospace;background-color: #f0f8ff;border: 1px dotted black;border-radius: 0.25em;box-sizing: border-box;margin-bottom: 0.5em;}#sk-container-id-3 div.sk-estimator:hover {background-color: #d4ebff;}#sk-container-id-3 div.sk-parallel-item::after {content: \"\";width: 100%;border-bottom: 1px solid gray;flex-grow: 1;}#sk-container-id-3 div.sk-label:hover label.sk-toggleable__label {background-color: #d4ebff;}#sk-container-id-3 div.sk-serial::before {content: \"\";position: absolute;border-left: 1px solid gray;box-sizing: border-box;top: 0;bottom: 0;left: 50%;z-index: 0;}#sk-container-id-3 div.sk-serial {display: flex;flex-direction: column;align-items: center;background-color: white;padding-right: 0.2em;padding-left: 0.2em;position: relative;}#sk-container-id-3 div.sk-item {position: relative;z-index: 1;}#sk-container-id-3 div.sk-parallel {display: flex;align-items: stretch;justify-content: center;background-color: white;position: relative;}#sk-container-id-3 div.sk-item::before, #sk-container-id-3 div.sk-parallel-item::before {content: \"\";position: absolute;border-left: 1px solid gray;box-sizing: border-box;top: 0;bottom: 0;left: 50%;z-index: -1;}#sk-container-id-3 div.sk-parallel-item {display: flex;flex-direction: column;z-index: 1;position: relative;background-color: white;}#sk-container-id-3 div.sk-parallel-item:first-child::after {align-self: flex-end;width: 50%;}#sk-container-id-3 div.sk-parallel-item:last-child::after {align-self: flex-start;width: 50%;}#sk-container-id-3 div.sk-parallel-item:only-child::after {width: 0;}#sk-container-id-3 div.sk-dashed-wrapped {border: 1px dashed gray;margin: 0 0.4em 0.5em 0.4em;box-sizing: border-box;padding-bottom: 0.4em;background-color: white;}#sk-container-id-3 div.sk-label label {font-family: monospace;font-weight: bold;display: inline-block;line-height: 1.2em;}#sk-container-id-3 div.sk-label-container {text-align: center;}#sk-container-id-3 div.sk-container {/* jupyter's `normalize.less` sets `[hidden] { display: none; }` but bootstrap.min.css set `[hidden] { display: none !important; }` so we also need the `!important` here to be able to override the default hidden behavior on the sphinx rendered scikit-learn.org. See: https://github.com/scikit-learn/scikit-learn/issues/21755 */display: inline-block !important;position: relative;}#sk-container-id-3 div.sk-text-repr-fallback {display: none;}</style><div id=\"sk-container-id-3\" class=\"sk-top-container\"><div class=\"sk-text-repr-fallback\"><pre>TfidfVectorizer(max_features=1000,\n",
       "                tokenizer=&lt;function word_tokenize at 0x0000018956050680&gt;)</pre><b>In a Jupyter environment, please rerun this cell to show the HTML representation or trust the notebook. <br />On GitHub, the HTML representation is unable to render, please try loading this page with nbviewer.org.</b></div><div class=\"sk-container\" hidden><div class=\"sk-item\"><div class=\"sk-estimator sk-toggleable\"><input class=\"sk-toggleable__control sk-hidden--visually\" id=\"sk-estimator-id-3\" type=\"checkbox\" checked><label for=\"sk-estimator-id-3\" class=\"sk-toggleable__label sk-toggleable__label-arrow\">TfidfVectorizer</label><div class=\"sk-toggleable__content\"><pre>TfidfVectorizer(max_features=1000,\n",
       "                tokenizer=&lt;function word_tokenize at 0x0000018956050680&gt;)</pre></div></div></div></div></div>"
      ],
      "text/plain": [
       "TfidfVectorizer(max_features=1000,\n",
       "                tokenizer=<function word_tokenize at 0x0000018956050680>)"
      ]
     },
     "execution_count": 30,
     "metadata": {},
     "output_type": "execute_result"
    }
   ],
   "source": [
    "from sklearn.feature_extraction.text import TfidfVectorizer\n",
    "import nltk\n",
    "\n",
    "# Initializing a TfidfVectorizer with max_features=1000\n",
    "BOW_vectorizer = TfidfVectorizer(tokenizer=nltk.word_tokenize,max_features=1000) \n",
    "\n",
    "# Fitting the vectorizer on the training text data (X_train)\n",
    "BOW_vectorizer.fit(X_train)"
   ]
  },
  {
   "cell_type": "code",
   "execution_count": 31,
   "metadata": {},
   "outputs": [],
   "source": [
    "X_train_BOW = BOW_vectorizer.transform(X_train)\n",
    "X_test_BOW = BOW_vectorizer.transform(X_test)"
   ]
  },
  {
   "cell_type": "code",
   "execution_count": 32,
   "metadata": {},
   "outputs": [],
   "source": [
    "## save csr_matrix file and pickle file\n",
    "from scipy.sparse import save_npz\n",
    "\n",
    "save_npz(\"X_train_BOW.npz\", X_train_BOW)\n",
    "save_npz(\"X_test_BOW.npz\", X_test_BOW)\n",
    "y_train.to_pickle(\"y_train.pkl\")\n",
    "y_test.to_pickle(\"y_test.pkl\")\n"
   ]
  },
  {
   "cell_type": "code",
   "execution_count": 158,
   "metadata": {},
   "outputs": [],
   "source": [
    "from scipy.sparse import load_npz\n",
    "\n",
    "## save csr_matrix file and pickle file\n",
    "X_train_BOW = load_npz(\"X_train_BOW.npz\")\n",
    "X_test_BOW = load_npz(\"X_test_BOW.npz\")\n",
    "y_train=pd.read_pickle(\"y_train.pkl\")\n",
    "y_test=pd.read_pickle(\"y_test.pkl\")"
   ]
  },
  {
   "cell_type": "markdown",
   "metadata": {},
   "source": [
    "### <font color=lightblue> If the traditional oversampling method is used, although the number of niche samples will increase, because it is copying data, it will easily lead to repeated information and overfit the model; if the traditional undersampling method is used, the number of mass samples will be reduced, but it will Part of the information is lost, which can easily lead to underfitting. Therefore, I used an improved version of the oversampling method SMOTE (randomly select a sample from the K nearest neighbor samples for each minority class sample, and randomly select a point from the connection between the two samples as the newly synthesized minority class sample) combined with the undersampling method Tomek Link (treating samples with low discrimination distributed at the boundary as noise and eliminating them) makes the distribution of label attributes close to consistent.\n",
    "### <font color=lightblue>=>over sampling + under sampling = SMOTETomek"
   ]
  },
  {
   "cell_type": "code",
   "execution_count": 34,
   "metadata": {},
   "outputs": [
    {
     "name": "stdout",
     "output_type": "stream",
     "text": [
      "emotion\n",
      "joy             0.354513\n",
      "anticipation    0.171024\n",
      "trust           0.141169\n",
      "sadness         0.132894\n",
      "disgust         0.095565\n",
      "fear            0.043969\n",
      "surprise        0.033479\n",
      "anger           0.027388\n",
      "Name: proportion, dtype: float64\n"
     ]
    }
   ],
   "source": [
    "from imblearn.combine import SMOTETomek\n",
    "\n",
    "# Initializing SMOTETomek\n",
    "SMTO=SMOTETomek(random_state=110191038)\n",
    "\n",
    "# Applying SMOTETomek resampling to the training data (X_train_BOW and y_train)\n",
    "X_train_BOW_SMOTETomek, y_train_SMOTETomek = SMTO.fit_resample(X=X_train_BOW, y=y_train)\n",
    "print(pd.Series(y_train).value_counts(normalize=True))"
   ]
  },
  {
   "cell_type": "code",
   "execution_count": 35,
   "metadata": {},
   "outputs": [
    {
     "name": "stdout",
     "output_type": "stream",
     "text": [
      "emotion\n",
      "anger           0.125202\n",
      "surprise        0.125174\n",
      "disgust         0.125148\n",
      "fear            0.125140\n",
      "sadness         0.125068\n",
      "trust           0.124853\n",
      "anticipation    0.124847\n",
      "joy             0.124569\n",
      "Name: proportion, dtype: float64\n"
     ]
    }
   ],
   "source": [
    "print(pd.Series(y_train_SMOTETomek).value_counts(normalize=True))"
   ]
  },
  {
   "cell_type": "markdown",
   "metadata": {},
   "source": [
    "### <font color=lightblue>We can find that after the calculation of SMOTETomek undersampling + oversampling, the distribution number of labels for each emotion is consistent."
   ]
  },
  {
   "cell_type": "code",
   "execution_count": 36,
   "metadata": {},
   "outputs": [
    {
     "data": {
      "text/plain": [
       "scipy.sparse._csr.csr_matrix"
      ]
     },
     "execution_count": 36,
     "metadata": {},
     "output_type": "execute_result"
    }
   ],
   "source": [
    "type(X_train_BOW)"
   ]
  },
  {
   "cell_type": "code",
   "execution_count": 37,
   "metadata": {},
   "outputs": [
    {
     "data": {
      "text/plain": [
       "pandas.core.series.Series"
      ]
     },
     "execution_count": 37,
     "metadata": {},
     "output_type": "execute_result"
    }
   ],
   "source": [
    "type(y_train_SMOTETomek)"
   ]
  },
  {
   "cell_type": "code",
   "execution_count": 38,
   "metadata": {},
   "outputs": [],
   "source": [
    "## save to pickle and npz file\n",
    "from scipy.sparse import save_npz\n",
    "\n",
    "save_npz(\"X_train_BOW_SMOTETomek.npz\", X_train_BOW_SMOTETomek)\n",
    "y_train_SMOTETomek.to_pickle(\"y_train_SMOTETomek.pkl\")"
   ]
  },
  {
   "cell_type": "code",
   "execution_count": 39,
   "metadata": {},
   "outputs": [],
   "source": [
    "from scipy.sparse import load_npz\n",
    "import pandas as pd\n",
    "\n",
    "## load to pickle and npz file\n",
    "X_train_BOW_SMOTETomek = load_npz(\"X_train_BOW_SMOTETomek.npz\")\n",
    "y_train_SMOTETomek = pd.read_pickle(\"y_train_SMOTETomek.pkl\")\n",
    "y_train = pd.read_pickle(\"y_train.pkl\")"
   ]
  },
  {
   "cell_type": "code",
   "execution_count": 159,
   "metadata": {},
   "outputs": [
    {
     "name": "stdout",
     "output_type": "stream",
     "text": [
      "Before:\n",
      "(291112,)\n",
      "(291112, 1000)\n",
      "After:\n",
      "(823720,)\n",
      "(823720, 1000)\n"
     ]
    }
   ],
   "source": [
    "print('Before:')\n",
    "print(y_train.shape)\n",
    "print(X_train_BOW.shape)\n",
    "print('After:')\n",
    "print(y_train_SMOTETomek.shape)\n",
    "print(X_train_BOW_SMOTETomek.shape)"
   ]
  },
  {
   "cell_type": "markdown",
   "metadata": {},
   "source": [
    "## Build various models"
   ]
  },
  {
   "cell_type": "code",
   "execution_count": 160,
   "metadata": {},
   "outputs": [
    {
     "name": "stdout",
     "output_type": "stream",
     "text": [
      "              precision    recall  f1-score   support\n",
      "\n",
      "       anger       0.16      0.13      0.14     31894\n",
      "anticipation       0.42      0.41      0.41    199148\n",
      "     disgust       0.25      0.24      0.24    111281\n",
      "        fear       0.27      0.23      0.25     51199\n",
      "         joy       0.51      0.57      0.54    412814\n",
      "     sadness       0.34      0.33      0.33    154750\n",
      "    surprise       0.20      0.16      0.18     38983\n",
      "       trust       0.30      0.28      0.29    164382\n",
      "\n",
      "    accuracy                           0.40   1164451\n",
      "   macro avg       0.31      0.29      0.30   1164451\n",
      "weighted avg       0.39      0.40      0.39   1164451\n",
      "\n"
     ]
    }
   ],
   "source": [
    "from sklearn.tree import DecisionTreeClassifier\n",
    "\n",
    "# Initialize a Decision Tree Classifier\n",
    "DT_model = DecisionTreeClassifier(random_state=110191038)\n",
    "\n",
    "# Train the Decision Tree model using the Bag-of-Words representations of the training data\n",
    "DT_model = DT_model.fit(X_train_BOW, y_train)\n",
    "y_test_pred = DT_model.predict(X_test_BOW)\n",
    "from sklearn.metrics import classification_report\n",
    "print(classification_report(y_true=y_test, y_pred=y_test_pred))"
   ]
  },
  {
   "cell_type": "markdown",
   "metadata": {},
   "source": [
    "### <font color=lightblue> The accuracy of the model is 0.4, while the f1-score of macro avg is 0.3. The model has good prediction performance for anticipation and joy, but is not good at predicting anger and surprise."
   ]
  },
  {
   "cell_type": "code",
   "execution_count": 41,
   "metadata": {},
   "outputs": [],
   "source": [
    "from sklearn.tree import DecisionTreeClassifier\n",
    "\n",
    "\n",
    "DT_model = DecisionTreeClassifier(random_state=110191038)\n",
    "\n",
    "# Train the Decision Tree model using the Bag-of-Words and SMOTETomek representations of the training data\n",
    "DT_model = DT_model.fit(X_train_BOW_SMOTETomek, y_train_SMOTETomek)"
   ]
  },
  {
   "cell_type": "code",
   "execution_count": 42,
   "metadata": {},
   "outputs": [],
   "source": [
    "\n",
    "y_test_pred = DT_model.predict(X_test_BOW)"
   ]
  },
  {
   "cell_type": "code",
   "execution_count": 43,
   "metadata": {},
   "outputs": [
    {
     "name": "stdout",
     "output_type": "stream",
     "text": [
      "              precision    recall  f1-score   support\n",
      "\n",
      "       anger       0.12      0.16      0.14     31894\n",
      "anticipation       0.42      0.40      0.41    199148\n",
      "     disgust       0.24      0.24      0.24    111281\n",
      "        fear       0.23      0.28      0.26     51199\n",
      "         joy       0.52      0.50      0.51    412814\n",
      "     sadness       0.33      0.32      0.32    154750\n",
      "    surprise       0.16      0.20      0.18     38983\n",
      "       trust       0.30      0.29      0.30    164382\n",
      "\n",
      "    accuracy                           0.38   1164451\n",
      "   macro avg       0.29      0.30      0.29   1164451\n",
      "weighted avg       0.38      0.38      0.38   1164451\n",
      "\n"
     ]
    }
   ],
   "source": [
    "from sklearn.metrics import classification_report\n",
    "\n",
    "print(classification_report(y_true=y_test, y_pred=y_test_pred))"
   ]
  },
  {
   "cell_type": "markdown",
   "metadata": {},
   "source": [
    "### <font color=lightblue>The accuracy of the model is 0.38, while the f1-score of macro avg is 0.29. The model has good prediction performance for anticipation and joy, but is not good at predicting anger and surprise.\n",
    "### <font color=lightblue>Compared with x, y training data that has not been processed by SMOTETomek, its prediction performance is poor"
   ]
  },
  {
   "cell_type": "code",
   "execution_count": 45,
   "metadata": {},
   "outputs": [
    {
     "name": "stdout",
     "output_type": "stream",
     "text": [
      "              precision    recall  f1-score   support\n",
      "\n",
      "       anger       0.56      0.10      0.17     31894\n",
      "anticipation       0.54      0.41      0.47    199148\n",
      "     disgust       0.37      0.25      0.30    111281\n",
      "        fear       0.63      0.19      0.30     51199\n",
      "         joy       0.46      0.82      0.59    412814\n",
      "     sadness       0.47      0.34      0.40    154750\n",
      "    surprise       0.58      0.14      0.22     38983\n",
      "       trust       0.52      0.17      0.26    164382\n",
      "\n",
      "    accuracy                           0.47   1164451\n",
      "   macro avg       0.52      0.30      0.34   1164451\n",
      "weighted avg       0.49      0.47      0.43   1164451\n",
      "\n"
     ]
    }
   ],
   "source": [
    "from sklearn.ensemble import AdaBoostClassifier\n",
    "from sklearn.metrics import classification_report\n",
    "# Initialize AdaBoostClassifier\n",
    "AdaBoost = AdaBoostClassifier(n_estimators=280,random_state=1104)\n",
    "# Train the AdaBoost model using the Bag-of-Words representations of the training data\n",
    "AdaBoost=AdaBoost.fit(X_train_BOW, y_train)\n",
    "# Make predictions on the Bag-of-Words representations of the test data\n",
    "y_test_pred_Ada=AdaBoost.predict(X_test_BOW)\n",
    "print(classification_report(y_true=y_test, y_pred=y_test_pred_Ada))"
   ]
  },
  {
   "cell_type": "markdown",
   "metadata": {},
   "source": [
    "### <font color=lightblue>The accuracy of the model is 0.47, while the f1-score of macro avg is 0.34. The model has good prediction performance for anticipation ,sadness and joy, but is not good at predicting anger and surprise.\n",
    "### <font color=lightblue>Compared with decision trees, it has significantly better prediction performance."
   ]
  },
  {
   "cell_type": "code",
   "execution_count": 161,
   "metadata": {},
   "outputs": [
    {
     "name": "stdout",
     "output_type": "stream",
     "text": [
      "              precision    recall  f1-score   support\n",
      "\n",
      "       anger       0.14      0.22      0.17     31894\n",
      "anticipation       0.48      0.40      0.44    199148\n",
      "     disgust       0.27      0.33      0.30    111281\n",
      "        fear       0.23      0.34      0.28     51199\n",
      "         joy       0.51      0.51      0.51    412814\n",
      "     sadness       0.41      0.33      0.37    154750\n",
      "    surprise       0.21      0.19      0.20     38983\n",
      "       trust       0.32      0.32      0.32    164382\n",
      "\n",
      "    accuracy                           0.40   1164451\n",
      "   macro avg       0.32      0.33      0.32   1164451\n",
      "weighted avg       0.41      0.40      0.40   1164451\n",
      "\n"
     ]
    }
   ],
   "source": [
    "from sklearn.ensemble import AdaBoostClassifier\n",
    "from sklearn.metrics import classification_report\n",
    "# Initialize AdaBoostClassifier\n",
    "AdaBoost = AdaBoostClassifier(n_estimators=280,random_state=1104)\n",
    "# Train the AdaBoost model using the Bag-of-Words representations of the training data\n",
    "AdaBoost=AdaBoost.fit(X_train_BOW_SMOTETomek, y_train_SMOTETomek)\n",
    "# Make predictions on the Bag-of-Words representations of the test data\n",
    "y_test_pred_Ada=AdaBoost.predict(X_test_BOW)\n",
    "print(classification_report(y_true=y_test, y_pred=y_test_pred_Ada))"
   ]
  },
  {
   "cell_type": "markdown",
   "metadata": {},
   "source": [
    "### <font color=lightblue>The accuracy of the model is 0.40, while the f1-score of macro avg is 0.32. The model has good prediction performance for anticipation, joy, and sadness, but is not good at predicting anger and surprise.\n",
    "### <font color=lightblue>Compared with x, y training data that has not been processed by SMOTETomek, its prediction performance is poor"
   ]
  },
  {
   "cell_type": "markdown",
   "metadata": {},
   "source": [
    "### <font color=lightblue>Although according to my previous experience in training models, the prediction performance of the model can be improved after SMOTETomek sampling processing, but in this training, I found that SMOTETomek sampling processing actually reduced the model performance. Therefore, I think SMOTETomek sampling processing is not suitable for use. in language processing"
   ]
  },
  {
   "cell_type": "code",
   "execution_count": 53,
   "metadata": {},
   "outputs": [
    {
     "data": {
      "text/html": [
       "<div>\n",
       "<style scoped>\n",
       "    .dataframe tbody tr th:only-of-type {\n",
       "        vertical-align: middle;\n",
       "    }\n",
       "\n",
       "    .dataframe tbody tr th {\n",
       "        vertical-align: top;\n",
       "    }\n",
       "\n",
       "    .dataframe thead th {\n",
       "        text-align: right;\n",
       "    }\n",
       "</style>\n",
       "<table border=\"1\" class=\"dataframe\">\n",
       "  <thead>\n",
       "    <tr style=\"text-align: right;\">\n",
       "      <th></th>\n",
       "      <th>tweet_id</th>\n",
       "      <th>text</th>\n",
       "    </tr>\n",
       "  </thead>\n",
       "  <tbody>\n",
       "    <tr>\n",
       "      <th>2</th>\n",
       "      <td>0x28b412</td>\n",
       "      <td>Confident of your obedience, I write to you, k...</td>\n",
       "    </tr>\n",
       "    <tr>\n",
       "      <th>4</th>\n",
       "      <td>0x2de201</td>\n",
       "      <td>\"Trust is not the same as faith. A friend is s...</td>\n",
       "    </tr>\n",
       "    <tr>\n",
       "      <th>9</th>\n",
       "      <td>0x218443</td>\n",
       "      <td>When do you have enough ? When are you satisfi...</td>\n",
       "    </tr>\n",
       "    <tr>\n",
       "      <th>30</th>\n",
       "      <td>0x2939d5</td>\n",
       "      <td>God woke you up, now chase the day #GodsPlan #...</td>\n",
       "    </tr>\n",
       "    <tr>\n",
       "      <th>33</th>\n",
       "      <td>0x26289a</td>\n",
       "      <td>In these tough times, who do YOU turn to as yo...</td>\n",
       "    </tr>\n",
       "    <tr>\n",
       "      <th>...</th>\n",
       "      <td>...</td>\n",
       "      <td>...</td>\n",
       "    </tr>\n",
       "    <tr>\n",
       "      <th>1867525</th>\n",
       "      <td>0x2913b4</td>\n",
       "      <td>\"For this is the message that ye heard from th...</td>\n",
       "    </tr>\n",
       "    <tr>\n",
       "      <th>1867529</th>\n",
       "      <td>0x2a980e</td>\n",
       "      <td>\"There is a lad here, which hath five barley l...</td>\n",
       "    </tr>\n",
       "    <tr>\n",
       "      <th>1867530</th>\n",
       "      <td>0x316b80</td>\n",
       "      <td>When you buy the last 2 tickets remaining for ...</td>\n",
       "    </tr>\n",
       "    <tr>\n",
       "      <th>1867531</th>\n",
       "      <td>0x29d0cb</td>\n",
       "      <td>I swear all this hard work gone pay off one da...</td>\n",
       "    </tr>\n",
       "    <tr>\n",
       "      <th>1867532</th>\n",
       "      <td>0x2a6a4f</td>\n",
       "      <td>@Parcel2Go no card left when I wasn't in so I ...</td>\n",
       "    </tr>\n",
       "  </tbody>\n",
       "</table>\n",
       "<p>411972 rows × 2 columns</p>\n",
       "</div>"
      ],
      "text/plain": [
       "         tweet_id                                               text\n",
       "2        0x28b412  Confident of your obedience, I write to you, k...\n",
       "4        0x2de201  \"Trust is not the same as faith. A friend is s...\n",
       "9        0x218443  When do you have enough ? When are you satisfi...\n",
       "30       0x2939d5  God woke you up, now chase the day #GodsPlan #...\n",
       "33       0x26289a  In these tough times, who do YOU turn to as yo...\n",
       "...           ...                                                ...\n",
       "1867525  0x2913b4  \"For this is the message that ye heard from th...\n",
       "1867529  0x2a980e  \"There is a lad here, which hath five barley l...\n",
       "1867530  0x316b80  When you buy the last 2 tickets remaining for ...\n",
       "1867531  0x29d0cb  I swear all this hard work gone pay off one da...\n",
       "1867532  0x2a6a4f  @Parcel2Go no card left when I wasn't in so I ...\n",
       "\n",
       "[411972 rows x 2 columns]"
      ]
     },
     "execution_count": 53,
     "metadata": {},
     "output_type": "execute_result"
    }
   ],
   "source": [
    "df_test"
   ]
  },
  {
   "cell_type": "code",
   "execution_count": 54,
   "metadata": {},
   "outputs": [],
   "source": [
    "# Extract the 'text' column from the df_test DataFrame\n",
    "df_test_text=df_test['text']\n",
    "# Transform the text data from the test set using the previously trained BOW_vectorizer\n",
    "df_test_text=BOW_vectorizer.transform(df_test_text)"
   ]
  },
  {
   "cell_type": "code",
   "execution_count": 58,
   "metadata": {},
   "outputs": [],
   "source": [
    "# Use the trained AdaBoost model to predict the labels for the transformed test text data\n",
    "df_test_predictions=AdaBoost.predict(df_test_text)\n",
    "\n",
    "# Create a DataFrame output_df with columns 'id' and 'emotion' using test tweet IDs and predicted emotions\n",
    "output_df=pd.DataFrame({'id': df_test['tweet_id'], 'emotion': df_test_predictions})\n",
    "\n",
    "# Write the DataFrame to a CSV file named 'Adaboost.csv', excluding the index column\n",
    "output_df.to_csv('Adaboost.csv', index=False)"
   ]
  },
  {
   "cell_type": "code",
   "execution_count": 59,
   "metadata": {},
   "outputs": [
    {
     "name": "stdout",
     "output_type": "stream",
     "text": [
      "              precision    recall  f1-score   support\n",
      "\n",
      "       anger       0.75      0.10      0.18     31894\n",
      "anticipation       0.62      0.47      0.53    199148\n",
      "     disgust       0.43      0.27      0.33    111281\n",
      "        fear       0.70      0.24      0.35     51199\n",
      "         joy       0.49      0.85      0.62    412814\n",
      "     sadness       0.47      0.41      0.44    154750\n",
      "    surprise       0.77      0.15      0.25     38983\n",
      "       trust       0.63      0.23      0.33    164382\n",
      "\n",
      "    accuracy                           0.51   1164451\n",
      "   macro avg       0.61      0.34      0.38   1164451\n",
      "weighted avg       0.55      0.51      0.48   1164451\n",
      "\n"
     ]
    }
   ],
   "source": [
    "from catboost import CatBoostClassifier\n",
    "# Initialize CatBoostClassifier with GPU mode\n",
    "CatBoost = CatBoostClassifier(random_seed=1104,task_type=\"GPU\",verbose=False,iterations=1620)\n",
    "\n",
    "# Train the CatBoost model using the Bag-of-Words representations of the training data\n",
    "CatBoost=CatBoost.fit(X_train_BOW, y_train)\n",
    "# Make predictions on the Bag-of-Words representations of the test data\n",
    "y_test_pred_Cat=CatBoost.predict(X_test_BOW)\n",
    "print(classification_report(y_true=y_test, y_pred=y_test_pred_Cat))"
   ]
  },
  {
   "cell_type": "markdown",
   "metadata": {},
   "source": [
    "### <font color=lightblue>The accuracy of the model is 0.51, while the f1-score of macro avg is 0.38. The model has good prediction performance for anticipation ,sadness and joy, but is not good at predicting anger.\n",
    "### <font color=lightblue>Compared with decision trees and adaboost, it has significantly better prediction performance."
   ]
  },
  {
   "cell_type": "code",
   "execution_count": 60,
   "metadata": {},
   "outputs": [
    {
     "name": "stdout",
     "output_type": "stream",
     "text": [
      "WARNING:tensorflow:From C:\\Users\\longy\\AppData\\Roaming\\Python\\Python311\\site-packages\\keras\\src\\losses.py:2976: The name tf.losses.sparse_softmax_cross_entropy is deprecated. Please use tf.compat.v1.losses.sparse_softmax_cross_entropy instead.\n",
      "\n",
      "check label:  ['anger' 'anticipation' 'disgust' 'fear' 'joy' 'sadness' 'surprise'\n",
      " 'trust']\n"
     ]
    }
   ],
   "source": [
    "from sklearn.preprocessing import LabelEncoder\n",
    "import keras\n",
    "\n",
    "# Initialize a LabelEncoder to transform target labels into encoded integers\n",
    "label_encoder = LabelEncoder()\n",
    "\n",
    "# Fit the LabelEncoder to the training labels (y_train) to establish unique class mappings\n",
    "label_encoder.fit(y_train)\n",
    "print('check label: ', label_encoder.classes_)\n",
    "\n",
    "def label_encode(le, labels):\n",
    "    # Transform input labels into encoded integers using the provided LabelEncoder\n",
    "    enc = le.transform(labels)\n",
    "    # Convert the encoded integer labels into categorical format using Keras utilities\n",
    "    return keras.utils.to_categorical(enc)\n",
    "\n",
    "# Encode the training labels (y_train) into categorical format using the label_encode function\n",
    "y_train = label_encode(label_encoder, y_train)"
   ]
  },
  {
   "cell_type": "code",
   "execution_count": 61,
   "metadata": {},
   "outputs": [
    {
     "name": "stdout",
     "output_type": "stream",
     "text": [
      "input_shape:  1000\n",
      "output_shape:  8\n"
     ]
    }
   ],
   "source": [
    "input_shape = X_train_BOW.shape[1]\n",
    "print('input_shape: ', input_shape)\n",
    "\n",
    "output_shape = len(label_encoder.classes_)\n",
    "print('output_shape: ', output_shape)"
   ]
  },
  {
   "cell_type": "markdown",
   "metadata": {},
   "source": [
    "## NN"
   ]
  },
  {
   "cell_type": "code",
   "execution_count": 83,
   "metadata": {},
   "outputs": [
    {
     "name": "stdout",
     "output_type": "stream",
     "text": [
      "Model: \"model_7\"\n",
      "_________________________________________________________________\n",
      " Layer (type)                Output Shape              Param #   \n",
      "=================================================================\n",
      " input_8 (InputLayer)        [(None, 1000)]            0         \n",
      "                                                                 \n",
      " dense_21 (Dense)            (None, 64)                64064     \n"
     ]
    },
    {
     "name": "stdout",
     "output_type": "stream",
     "text": [
      "                                                                 \n",
      " re_lu_14 (ReLU)             (None, 64)                0         \n",
      "                                                                 \n",
      " dropout_3 (Dropout)         (None, 64)                0         \n",
      "                                                                 \n",
      " dense_22 (Dense)            (None, 64)                4160      \n",
      "                                                                 \n",
      " re_lu_15 (ReLU)             (None, 64)                0         \n",
      "                                                                 \n",
      " dropout_4 (Dropout)         (None, 64)                0         \n",
      "                                                                 \n",
      " dense_23 (Dense)            (None, 8)                 520       \n",
      "                                                                 \n",
      " softmax_7 (Softmax)         (None, 8)                 0         \n",
      "                                                                 \n",
      "=================================================================\n",
      "Total params: 68744 (268.53 KB)\n",
      "Trainable params: 68744 (268.53 KB)\n",
      "Non-trainable params: 0 (0.00 Byte)\n",
      "_________________________________________________________________\n"
     ]
    }
   ],
   "source": [
    "from keras.models import Model\n",
    "from keras.layers import Input, Dense\n",
    "from keras.layers import ReLU, Softmax\n",
    "from keras.layers import Dropout\n",
    "\n",
    "# input layer\n",
    "model_input = Input(shape=(input_shape, ))  # 500\n",
    "X1 = model_input\n",
    "\n",
    "# 1st hidden layer\n",
    "X_W1 = Dense(units=64)(X1)  # 64\n",
    "H1 = ReLU()(X_W1)\n",
    "H1_dropout = Dropout(0.2)(H1)\n",
    "\n",
    "# 2nd hidden layer\n",
    "H1_W2 = Dense(units=64)(H1_dropout)  # 64\n",
    "H2 = ReLU()(H1_W2)\n",
    "H2_dropout = Dropout(0.2)(H2)\n",
    "\n",
    "# output layer\n",
    "H2_W3 = Dense(units=output_shape)(H2_dropout)  # 4\n",
    "H3 = Softmax()(H2_W3)\n",
    "\n",
    "model_output = H3\n",
    "\n",
    "# create model\n",
    "model = Model(inputs=[model_input], outputs=[model_output])\n",
    "\n",
    "# loss function & optimizer\n",
    "model.compile(optimizer='adam',\n",
    "              loss='categorical_crossentropy',\n",
    "              metrics=['accuracy'],\n",
    "              run_eagerly=True)\n",
    "\n",
    "# show model construction\n",
    "model.summary()"
   ]
  },
  {
   "cell_type": "code",
   "execution_count": 84,
   "metadata": {},
   "outputs": [
    {
     "name": "stdout",
     "output_type": "stream",
     "text": [
      "Epoch 1/25\n",
      "7278/7278 [==============================] - 249s 34ms/step - loss: 1.4745 - accuracy: 0.4687 - val_loss: 1.4012 - val_accuracy: 0.4909\n",
      "Epoch 2/25\n",
      "7278/7278 [==============================] - 279s 38ms/step - loss: 1.3966 - accuracy: 0.4968 - val_loss: 1.3721 - val_accuracy: 0.5013\n",
      "Epoch 3/25\n",
      "7278/7278 [==============================] - 212s 29ms/step - loss: 1.3661 - accuracy: 0.5069 - val_loss: 1.3632 - val_accuracy: 0.5036\n",
      "Epoch 4/25\n",
      "7278/7278 [==============================] - 151s 21ms/step - loss: 1.3473 - accuracy: 0.5131 - val_loss: 1.3560 - val_accuracy: 0.5062\n",
      "Epoch 5/25\n",
      "7278/7278 [==============================] - 135s 19ms/step - loss: 1.3324 - accuracy: 0.5191 - val_loss: 1.3546 - val_accuracy: 0.5055\n",
      "Epoch 6/25\n",
      "7278/7278 [==============================] - 179s 25ms/step - loss: 1.3216 - accuracy: 0.5236 - val_loss: 1.3542 - val_accuracy: 0.5075\n",
      "Epoch 7/25\n",
      "7278/7278 [==============================] - 236s 32ms/step - loss: 1.3122 - accuracy: 0.5267 - val_loss: 1.3560 - val_accuracy: 0.5061\n",
      "Epoch 8/25\n",
      "7278/7278 [==============================] - 232s 32ms/step - loss: 1.3042 - accuracy: 0.5296 - val_loss: 1.3559 - val_accuracy: 0.5054\n",
      "Epoch 9/25\n",
      "7278/7278 [==============================] - 165s 23ms/step - loss: 1.2978 - accuracy: 0.5315 - val_loss: 1.3601 - val_accuracy: 0.5043\n",
      "Epoch 10/25\n",
      "7278/7278 [==============================] - 172s 24ms/step - loss: 1.2910 - accuracy: 0.5354 - val_loss: 1.3592 - val_accuracy: 0.5053\n",
      "Epoch 11/25\n",
      "7278/7278 [==============================] - 244s 33ms/step - loss: 1.2872 - accuracy: 0.5368 - val_loss: 1.3606 - val_accuracy: 0.5058\n",
      "training finish\n"
     ]
    }
   ],
   "source": [
    "from keras.callbacks import CSVLogger\n",
    "from keras.callbacks import EarlyStopping\n",
    "\n",
    "early_stopping = EarlyStopping(\n",
    "        monitor='val_loss',    # Metric to monitor, can be 'val_loss', 'val_accuracy', etc.\n",
    "        patience=5,              # Number of epochs without improvement before stopping training\n",
    "        restore_best_weights=True  # Restore weights to the best model achieved during training\n",
    "    )\n",
    "\n",
    "# training setting\n",
    "epochs = 25\n",
    "batch_size = 32\n",
    "X_train_BOW_toarray=X_train_BOW.toarray()\n",
    "# training\n",
    "history = model.fit(X_train_BOW_toarray, y_train, \n",
    "                    epochs=epochs, \n",
    "                    batch_size=batch_size, \n",
    "                    callbacks=[early_stopping],\n",
    "                    validation_split=0.2)\n",
    "print('training finish')"
   ]
  },
  {
   "cell_type": "code",
   "execution_count": 85,
   "metadata": {},
   "outputs": [
    {
     "name": "stdout",
     "output_type": "stream",
     "text": [
      "9098/9098 [==============================] - 35s 4ms/step\n"
     ]
    }
   ],
   "source": [
    "import numpy as np\n",
    "# Convert the sparse matrix X_test_BOW to a dense array\n",
    "X_test_BOW_toarray=X_test_BOW.toarray()\n",
    "# Predict using the model on the dense array\n",
    "pred_result = model.predict(X_test_BOW_toarray, batch_size=128)\n",
    "# Function to decode one-hot encoded labels back to original labels\n",
    "def label_decode(le, one_hot_label):\n",
    "    dec = np.argmax(one_hot_label, axis=1)\n",
    "    return le.inverse_transform(dec)\n",
    "\n",
    "# Decode the predicted results from one-hot encoded to original labels\n",
    "pred_result = label_decode(label_encoder, pred_result)"
   ]
  },
  {
   "cell_type": "code",
   "execution_count": 86,
   "metadata": {},
   "outputs": [
    {
     "name": "stdout",
     "output_type": "stream",
     "text": [
      "              precision    recall  f1-score   support\n",
      "\n",
      "       anger       0.62      0.10      0.18     31894\n",
      "anticipation       0.59      0.48      0.53    199148\n",
      "     disgust       0.40      0.26      0.32    111281\n",
      "        fear       0.60      0.25      0.36     51199\n",
      "         joy       0.51      0.82      0.62    412814\n",
      "     sadness       0.42      0.45      0.44    154750\n",
      "    surprise       0.69      0.15      0.25     38983\n",
      "       trust       0.58      0.22      0.32    164382\n",
      "\n",
      "    accuracy                           0.51   1164451\n",
      "   macro avg       0.55      0.34      0.38   1164451\n",
      "weighted avg       0.52      0.51      0.47   1164451\n",
      "\n"
     ]
    }
   ],
   "source": [
    "print(classification_report(y_true=y_test, y_pred=pred_result))"
   ]
  },
  {
   "cell_type": "markdown",
   "metadata": {},
   "source": [
    "### <font color=lightblue>The accuracy of the model is 0.51, while the f1-score of macro avg is 0.38. The model has good prediction performance for anticipation ,sadness and joy, but is not good at predicting anger.\n",
    "### <font color=lightblue>Compared with decision trees and adaboost, it has significantly better prediction performance. Its prediction performance is similar to that of catboost"
   ]
  },
  {
   "cell_type": "code",
   "execution_count": 92,
   "metadata": {},
   "outputs": [
    {
     "name": "stdout",
     "output_type": "stream",
     "text": [
      "12875/12875 [==============================] - 37s 3ms/step\n"
     ]
    }
   ],
   "source": [
    "df_test_text_toarray=df_test_text.toarray()\n",
    "# Predicting using the neural network model on the test data\n",
    "df_test_predictions_NN=model.predict(df_test_text_toarray)\n",
    "# Decoding the predicted labels from one-hot encoded to original labels\n",
    "df_test_predictions_NN = label_decode(label_encoder, df_test_predictions_NN)\n",
    "# Creating a DataFrame with predicted emotions and corresponding tweet IDs\n",
    "output_df=pd.DataFrame({'id': df_test['tweet_id'], 'emotion': df_test_predictions_NN.flatten()})\n",
    "\n",
    "# Writing the DataFrame to a CSV file, ignoring the index column\n",
    "output_df.to_csv('NN.csv', index=False)"
   ]
  },
  {
   "cell_type": "markdown",
   "metadata": {},
   "source": [
    "## CNN"
   ]
  },
  {
   "cell_type": "code",
   "execution_count": 94,
   "metadata": {},
   "outputs": [
    {
     "name": "stdout",
     "output_type": "stream",
     "text": [
      "WARNING:tensorflow:From C:\\Users\\longy\\AppData\\Roaming\\Python\\Python311\\site-packages\\keras\\src\\backend.py:6642: The name tf.nn.max_pool is deprecated. Please use tf.nn.max_pool2d instead.\n",
      "\n",
      "Model: \"model_8\"\n",
      "_________________________________________________________________\n",
      " Layer (type)                Output Shape              Param #   \n",
      "=================================================================\n",
      " input_9 (InputLayer)        [(None, 1000)]            0         \n",
      "                                                                 \n",
      " reshape (Reshape)           (None, 1000, 1)           0         \n",
      "                                                                 \n",
      " conv1d (Conv1D)             (None, 998, 128)          512       \n",
      "                                                                 \n",
      " max_pooling1d (MaxPooling1  (None, 499, 128)          0         \n",
      " D)                                                              \n",
      "                                                                 \n",
      " conv1d_1 (Conv1D)           (None, 497, 64)           24640     \n",
      "                                                                 \n",
      " max_pooling1d_1 (MaxPoolin  (None, 248, 64)           0         \n",
      " g1D)                                                            \n",
      "                                                                 \n",
      " flatten (Flatten)           (None, 15872)             0         \n",
      "                                                                 \n",
      " dense_24 (Dense)            (None, 64)                1015872   \n",
      "                                                                 \n",
      " dropout_5 (Dropout)         (None, 64)                0         \n",
      "                                                                 \n",
      " dense_25 (Dense)            (None, 64)                4160      \n",
      "                                                                 \n",
      " dropout_6 (Dropout)         (None, 64)                0         \n",
      "                                                                 \n",
      " dense_26 (Dense)            (None, 8)                 520       \n",
      "                                                                 \n",
      "=================================================================\n",
      "Total params: 1045704 (3.99 MB)\n",
      "Trainable params: 1045704 (3.99 MB)\n",
      "Non-trainable params: 0 (0.00 Byte)\n",
      "_________________________________________________________________\n"
     ]
    }
   ],
   "source": [
    "from keras.models import Model\n",
    "from keras.layers import Input, Dense\n",
    "from keras.layers import ReLU, Softmax\n",
    "from keras.layers import Dropout\n",
    "from keras.layers import Conv1D, MaxPooling1D, Flatten,Reshape\n",
    "\n",
    "model_input = Input(shape=(input_shape, ))  # 500\n",
    "X = Reshape((input_shape, 1))(model_input)  # Reshape for Conv1D\n",
    "\n",
    "# Convolutional layers\n",
    "conv_1 = Conv1D(128, kernel_size=3, activation='relu')(X)\n",
    "pool_1 = MaxPooling1D(pool_size=2)(conv_1)\n",
    "\n",
    "conv_2 = Conv1D(filters=64, kernel_size=3, activation='relu')(pool_1)\n",
    "pool_2 = MaxPooling1D(pool_size=2)(conv_2)\n",
    "\n",
    "# Flatten before Dense layers\n",
    "flat = Flatten()(pool_2)\n",
    "\n",
    "# Fully connected layers (Dense layers)\n",
    "fc_1 = Dense(units=64, activation='relu')(flat)\n",
    "fc_1_dropout = Dropout(0.2)(fc_1)\n",
    "\n",
    "fc_2 = Dense(units=64, activation='relu')(fc_1_dropout)\n",
    "fc_2_dropout = Dropout(0.2)(fc_2)\n",
    "\n",
    "# Output layer\n",
    "model_output = Dense(units=output_shape, activation='softmax')(fc_2_dropout)\n",
    "\n",
    "\n",
    "# create model\n",
    "model_CNN = Model(inputs=[model_input], outputs=[model_output])\n",
    "\n",
    "# loss function & optimizer\n",
    "model_CNN.compile(optimizer='adam',\n",
    "              loss='categorical_crossentropy',\n",
    "              metrics=['accuracy'],\n",
    "              run_eagerly=True)\n",
    "\n",
    "# show model construction\n",
    "model_CNN.summary()"
   ]
  },
  {
   "cell_type": "code",
   "execution_count": 95,
   "metadata": {},
   "outputs": [
    {
     "name": "stdout",
     "output_type": "stream",
     "text": [
      "Epoch 1/25\n",
      "7278/7278 [==============================] - 458s 63ms/step - loss: 1.5027 - accuracy: 0.4570 - val_loss: 1.4109 - val_accuracy: 0.4855\n",
      "Epoch 2/25\n",
      "7278/7278 [==============================] - 544s 75ms/step - loss: 1.4120 - accuracy: 0.4894 - val_loss: 1.3819 - val_accuracy: 0.4957\n",
      "Epoch 3/25\n",
      "7278/7278 [==============================] - 427s 59ms/step - loss: 1.3754 - accuracy: 0.5017 - val_loss: 1.3684 - val_accuracy: 0.5016\n",
      "Epoch 4/25\n",
      "7278/7278 [==============================] - 431s 59ms/step - loss: 1.3494 - accuracy: 0.5118 - val_loss: 1.3684 - val_accuracy: 0.5005\n",
      "Epoch 5/25\n",
      "7278/7278 [==============================] - 352s 48ms/step - loss: 1.3293 - accuracy: 0.5191 - val_loss: 1.3679 - val_accuracy: 0.5007\n",
      "Epoch 6/25\n",
      "7278/7278 [==============================] - 348s 48ms/step - loss: 1.3118 - accuracy: 0.5263 - val_loss: 1.3728 - val_accuracy: 0.5004\n",
      "Epoch 7/25\n",
      "7278/7278 [==============================] - 348s 48ms/step - loss: 1.2939 - accuracy: 0.5320 - val_loss: 1.3771 - val_accuracy: 0.5006\n",
      "Epoch 8/25\n",
      "7278/7278 [==============================] - 351s 48ms/step - loss: 1.2792 - accuracy: 0.5380 - val_loss: 1.3779 - val_accuracy: 0.4964\n",
      "Epoch 9/25\n",
      "7278/7278 [==============================] - 349s 48ms/step - loss: 1.2650 - accuracy: 0.5424 - val_loss: 1.3927 - val_accuracy: 0.4987\n",
      "Epoch 10/25\n",
      "7278/7278 [==============================] - 349s 48ms/step - loss: 1.2511 - accuracy: 0.5486 - val_loss: 1.3926 - val_accuracy: 0.4984\n",
      "training finish\n"
     ]
    }
   ],
   "source": [
    "from keras.callbacks import CSVLogger\n",
    "from keras.callbacks import EarlyStopping\n",
    "\n",
    "early_stopping = EarlyStopping(\n",
    "        monitor='val_loss',    # The metric to monitor, such as 'val_loss', 'val_accuracy', etc.\n",
    "        patience=5,             # Number of epochs with no improvement after which training will be stopped\n",
    "        restore_best_weights=True  # Restores the model's best weights based on the monitored metric\n",
    "    )\n",
    "\n",
    "# training setting\n",
    "epochs = 25\n",
    "batch_size = 32\n",
    "X_train_BOW_toarray=X_train_BOW.toarray()\n",
    "# training\n",
    "history = model_CNN.fit(X_train_BOW_toarray, y_train, \n",
    "                    epochs=epochs, \n",
    "                    batch_size=batch_size, \n",
    "                    callbacks=[early_stopping],\n",
    "                    validation_split=0.2)\n",
    "print('training finish')"
   ]
  },
  {
   "cell_type": "code",
   "execution_count": 96,
   "metadata": {},
   "outputs": [
    {
     "name": "stdout",
     "output_type": "stream",
     "text": [
      "9098/9098 [==============================] - 219s 24ms/step\n",
      "              precision    recall  f1-score   support\n",
      "\n",
      "       anger       0.67      0.10      0.17     31894\n",
      "anticipation       0.59      0.46      0.52    199148\n",
      "     disgust       0.36      0.30      0.33    111281\n",
      "        fear       0.60      0.25      0.35     51199\n",
      "         joy       0.50      0.83      0.62    412814\n",
      "     sadness       0.46      0.38      0.42    154750\n",
      "    surprise       0.73      0.15      0.25     38983\n",
      "       trust       0.56      0.22      0.32    164382\n",
      "\n",
      "    accuracy                           0.50   1164451\n",
      "   macro avg       0.56      0.34      0.37   1164451\n",
      "weighted avg       0.52      0.50      0.47   1164451\n",
      "\n"
     ]
    }
   ],
   "source": [
    "import numpy as np\n",
    "# Convert test BOW data to array\n",
    "X_test_BOW_toarray=X_test_BOW.toarray()\n",
    "# Get predictions using the CNN model\n",
    "pred_result_CNN = model_CNN.predict(X_test_BOW_toarray, batch_size=128)\n",
    "def label_decode(le, one_hot_label):\n",
    "    dec = np.argmax(one_hot_label, axis=1)\n",
    "    return le.inverse_transform(dec)\n",
    "# Decode the predicted labels obtained from the model\n",
    "pred_result_CNN = label_decode(label_encoder, pred_result_CNN)\n",
    "print(classification_report(y_true=y_test, y_pred=pred_result_CNN))"
   ]
  },
  {
   "cell_type": "code",
   "execution_count": 97,
   "metadata": {},
   "outputs": [
    {
     "name": "stdout",
     "output_type": "stream",
     "text": [
      "12875/12875 [==============================] - 128s 10ms/step\n"
     ]
    }
   ],
   "source": [
    "df_test_text_toarray=df_test_text.toarray()\n",
    "# Obtain predictions using the CNN model for the test data\n",
    "df_test_predictions_CNN=model_CNN.predict(df_test_text_toarray)\n",
    "# Eecode the predicted labels obtained from the model\n",
    "df_test_predictions_CNN = label_decode(label_encoder, df_test_predictions_CNN)\n",
    "# Prepare a DataFrame with tweet IDs and predicted emotions\n",
    "output_df=pd.DataFrame({'id': df_test['tweet_id'], 'emotion': df_test_predictions_CNN.flatten()})\n",
    "\n",
    "# Write the DataFrame to a CSV file, ignoring the index column\n",
    "output_df.to_csv('CNN.csv', index=False)"
   ]
  },
  {
   "cell_type": "markdown",
   "metadata": {},
   "source": [
    "### <font color=lightblue>The accuracy of the model is 0.50, while the f1-score of macro avg is 0.37. The model has good prediction performance for anticipation ,sadness,fear and joy, but is not good at predicting anger.\n",
    "### <font color=lightblue>Compared with decision trees and adaboost, it has significantly better prediction performance. Its performance is slightly worse than catboost and NN"
   ]
  },
  {
   "cell_type": "markdown",
   "metadata": {},
   "source": [
    "## <font color=lightblue>Conclusion: Among the models we established, the prediction performance of catboost, NN and CNN models is the best.\n",
    "## <font color=lightblue>Each model has good prediction performance for anticipation and joy, and is not good at predicting anger. The remaining emotion labels are different models with different prediction capabilities."
   ]
  }
 ],
 "metadata": {
  "kernelspec": {
   "display_name": "Python 3 (ipykernel)",
   "language": "python",
   "name": "python3"
  },
  "language_info": {
   "codemirror_mode": {
    "name": "ipython",
    "version": 3
   },
   "file_extension": ".py",
   "mimetype": "text/x-python",
   "name": "python",
   "nbconvert_exporter": "python",
   "pygments_lexer": "ipython3",
   "version": "3.11.2"
  },
  "varInspector": {
   "cols": {
    "lenName": 16,
    "lenType": 16,
    "lenVar": 40
   },
   "kernels_config": {
    "python": {
     "delete_cmd_postfix": "",
     "delete_cmd_prefix": "del ",
     "library": "var_list.py",
     "varRefreshCmd": "print(var_dic_list())"
    },
    "r": {
     "delete_cmd_postfix": ") ",
     "delete_cmd_prefix": "rm(",
     "library": "var_list.r",
     "varRefreshCmd": "cat(var_dic_list()) "
    }
   },
   "types_to_exclude": [
    "module",
    "function",
    "builtin_function_or_method",
    "instance",
    "_Feature"
   ],
   "window_display": false
  }
 },
 "nbformat": 4,
 "nbformat_minor": 2
}
